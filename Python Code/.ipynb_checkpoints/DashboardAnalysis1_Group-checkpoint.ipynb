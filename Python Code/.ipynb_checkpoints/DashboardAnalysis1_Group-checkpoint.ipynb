{
 "cells": [
  {
   "cell_type": "markdown",
   "id": "d96ad388",
   "metadata": {},
   "source": [
    "#### Jupyter Notebook for Dashboard \n",
    "\n"
   ]
  },
  {
   "cell_type": "code",
   "execution_count": null,
   "id": "cf0b9644",
   "metadata": {},
   "outputs": [],
   "source": [
    "# imports\n",
    "import os\n",
    "import requests\n",
    "import json\n",
    "import pandas as pd\n",
    "from dotenv import load_dotenv\n",
    "from requests import Request, Session\n",
    "from requests.exceptions import ConnectionError, Timeout, TooManyRedirects\n",
    "import json\n",
    "import panel as pn\n",
    "pn.extension('plotly')\n",
    "import plotly.express as px\n",
    "import hvplot.pandas\n",
    "import matplotlib.pyplot as plt\n",
    "import pandas as pd\n",
    "from pathlib import Path\n",
    "import seaborn as sns\n",
    "\n",
    "%matplotlib inline\n",
    "from panel.layout.gridstack import GridStack\n",
    "from panel.interact import interact, interactive, fixed, interact_manual"
   ]
  },
  {
   "cell_type": "code",
   "execution_count": null,
   "id": "0312760b",
   "metadata": {},
   "outputs": [],
   "source": [
    "# Initialize the Panel Extensions (for Plotly)\n",
    "import panel as pn\n",
    "pn.extension(\"plotly\")"
   ]
  },
  {
   "cell_type": "code",
   "execution_count": null,
   "id": "815709e0",
   "metadata": {},
   "outputs": [],
   "source": [
    "#Use one new Python library that hasn't been covered in class. (Yfinance is yahoo finance)\n",
    "import yfinance as yf"
   ]
  },
  {
   "cell_type": "code",
   "execution_count": null,
   "id": "4fbd41d9",
   "metadata": {},
   "outputs": [],
   "source": [
    "# Load .env enviroment variables\n",
    "load_dotenv()"
   ]
  },
  {
   "cell_type": "markdown",
   "id": "bd2ba70d",
   "metadata": {},
   "source": [
    "### Import Covid-19 Case Data"
   ]
  },
  {
   "cell_type": "code",
   "execution_count": null,
   "id": "e28a8feb",
   "metadata": {},
   "outputs": [],
   "source": [
    "#data collected from the World Health Organization\n",
    "#https://covid19.who.int/info/\n",
    "    \n",
    "csv_path = Path(\"../Resources/WHO-COVID-19-global-data.csv\")\n",
    "df_covid_cases = pd.read_csv(csv_path)\n",
    "df_covid_cases.head()\n"
   ]
  },
  {
   "cell_type": "markdown",
   "id": "ccad2d57",
   "metadata": {},
   "source": [
    "### Ben's Globally available data"
   ]
  },
  {
   "cell_type": "code",
   "execution_count": null,
   "id": "94fcefc2",
   "metadata": {},
   "outputs": [],
   "source": [
    "# BEN GLOBAL DATA SECTION \n",
    "btc= yf.Ticker(\"BTC-USD\")\n",
    "#get BTC pre and post covid data \n",
    "btc_historical_precovid = btc.history(start=\"2018-03-01\", end=\"2020-03-01\")\n",
    "btc_historical_postcovid = btc.history(start=\"2020-03-01\", end=\"2021-06-01\")\n",
    "btc_historical_precovid.drop(btc_historical_precovid.columns.difference(['Close']), 1, inplace=True)\n",
    "btc_historical_postcovid.drop(btc_historical_postcovid.columns.difference(['Close']), 1, inplace=True)\n",
    "#Change close to specific column name \n",
    "btc_historical_precovid = btc_historical_precovid.rename(columns={\"Close\": \"BTC\"})\n",
    "#Change close to specific column name btc_historical_postcovid\n",
    "btc_historical_postcovid = btc_historical_postcovid.rename(columns={\"Close\": \"BTC\"})\n",
    "\n",
    "#Ethereum get pre and post data \n",
    "eth= yf.Ticker(\"ETH-USD\")\n",
    "eth_historical_precovid = eth.history(start=\"2018-03-01\", end=\"2020-03-01\")\n",
    "eth_historical_postcovid = eth.history(start=\"2020-03-01\", end=\"2021-03-01\")\n",
    "eth_historical_precovid.drop(eth_historical_precovid.columns.difference(['Close']), 1, inplace=True)\n",
    "eth_historical_postcovid.drop(eth_historical_postcovid.columns.difference(['Close']), 1, inplace=True)\n",
    " #Change close to specific column name \n",
    "eth_historical_precovid = eth_historical_precovid.rename(columns={\"Close\": \"ETH\"})\n",
    "#Change close to specific column name \n",
    "eth_historical_postcovid = eth_historical_postcovid.rename(columns={\"Close\": \"ETH\"})\n",
    "\n",
    "#litecoin get pre and post data \n",
    "ltc= yf.Ticker(\"LTC-USD\")\n",
    "ltc_historical_precovid = ltc.history(start=\"2018-03-01\", end=\"2020-03-01\")"
   ]
  },
  {
   "cell_type": "code",
   "execution_count": null,
   "id": "ccc18928",
   "metadata": {},
   "outputs": [],
   "source": [
    "# BEN METHODS SECTION \n",
    "#create methods for plotting "
   ]
  },
  {
   "cell_type": "markdown",
   "id": "e98b1170",
   "metadata": {},
   "source": [
    "### Sadia's Globally available data"
   ]
  },
  {
   "cell_type": "code",
   "execution_count": null,
   "id": "d3687cdb",
   "metadata": {},
   "outputs": [],
   "source": [
    "# SADIA GLOBAL DATA SECTION \n",
    "# Sadia code goes here"
   ]
  },
  {
   "cell_type": "code",
   "execution_count": null,
   "id": "d7eaf6a9",
   "metadata": {},
   "outputs": [],
   "source": [
    "#SADIA METHODS SECTION \n",
    "#create methods for plotting "
   ]
  },
  {
   "cell_type": "markdown",
   "id": "3dffcb91",
   "metadata": {},
   "source": [
    "### Mo's Globally available data"
   ]
  },
  {
   "cell_type": "code",
   "execution_count": null,
   "id": "37cdd587",
   "metadata": {},
   "outputs": [],
   "source": [
    "# MO GLOBAL DATA SECTION \n",
    "# Mo code goes here"
   ]
  },
  {
   "cell_type": "code",
   "execution_count": null,
   "id": "6eb8162f",
   "metadata": {},
   "outputs": [],
   "source": [
    "# MO METHODS SECTION \n",
    "#create methods for plotting "
   ]
  },
  {
   "cell_type": "markdown",
   "id": "19d97631",
   "metadata": {},
   "source": [
    "### Panel Visualization Functions"
   ]
  },
  {
   "cell_type": "code",
   "execution_count": null,
   "id": "7846887c",
   "metadata": {},
   "outputs": [],
   "source": [
    "def create_plot_line_chart(data, title, xlabel, ylabel, stacked, figsize):\n",
    "    \"\"\"\n",
    "    Create a line chart based in the data argument.\n",
    "    \"\"\"\n",
    "    new_plot_line_chart = data.plot(\n",
    "    title=title, xlabel=xlabel, rot=45, ylabel=ylabel, stacked=stacked,figsize=figsize)\n",
    "    #plt.show() \n",
    "    return new_line_chart\n",
    "\n",
    "def create_hvplot_bar_chart(data, title, xlabel, ylabel, color, height):\n",
    "    \"\"\"\n",
    "    Create a barplot based in the data argument.\n",
    "    \"\"\"\n",
    "    \n",
    "    new_hvplot_bar_chart = data.hvplot.bar(\n",
    "   \n",
    "    title=title, xlabel=xlabel, rot=45, ylabel=ylabel, color=color, height=height)\n",
    "    #plt.show()  \n",
    "    \n",
    "    return new_bar_chart \n",
    "\n",
    "def create_hvplot_line_chart(data, title, xlabel, ylabel, color, height):\n",
    "    \"\"\"\n",
    "    Create a line chart based in the data argument.\n",
    "    \"\"\"\n",
    "    new_hvplot_line_chart = data.hvplot(\n",
    "    title=title, xlabel=xlabel, rot=45, ylabel=ylabel, color=color,height=height)\n",
    "    #plt.show() \n",
    "    return new_line_chart\n",
    "\n",
    "def create_scatter_chart(data, title, x, y, color, height):\n",
    "    \"\"\"\n",
    "    Create a line chart based in the data argument.\n",
    "    \"\"\"\n",
    "    new_scatter_chart = px.scatter(\n",
    "    data=data, title=title, x=x, y=y, color=color,height=height)\n",
    "    #plt.show() \n",
    "    return new_line_chart"
   ]
  },
  {
   "cell_type": "markdown",
   "id": "4bd471f7",
   "metadata": {},
   "source": [
    "## Panel Dashboard\n",
    "\n",
    "In this section, you will combine all of the plots into a single dashboard view using Panel. Be creative with your dashboard design!"
   ]
  },
  {
   "cell_type": "code",
   "execution_count": null,
   "id": "389ee174",
   "metadata": {},
   "outputs": [],
   "source": [
    "#dashboard code goes here "
   ]
  },
  {
   "cell_type": "markdown",
   "id": "cb4e3471",
   "metadata": {},
   "source": [
    "## Serve the Panel Dashboard"
   ]
  },
  {
   "cell_type": "code",
   "execution_count": null,
   "id": "c14f3772",
   "metadata": {},
   "outputs": [],
   "source": [
    "#please ignore error messages, the dashboard works on local machine. \n",
    "#please see gif recording as well, for data visualization / graphs / charts \n",
    "my_dashboard.servable(location=True, area='main')"
   ]
  },
  {
   "cell_type": "markdown",
   "id": "1af11f82",
   "metadata": {},
   "source": [
    "# Debugging\n",
    "\n",
    "Note: Some of the Plotly express plots may not render in the notebook through the panel functions.\n",
    "\n",
    "However, you can test each plot by uncommenting the following code"
   ]
  },
  {
   "cell_type": "code",
   "execution_count": null,
   "id": "1b44ba07",
   "metadata": {},
   "outputs": [],
   "source": [
    "# create_plot_line_chart(data, title, xlabel, ylabel, stacked, figsize)"
   ]
  },
  {
   "cell_type": "code",
   "execution_count": null,
   "id": "7ae7419b",
   "metadata": {},
   "outputs": [],
   "source": [
    "# create_hvplot_bar_chart(data, title, xlabel, ylabel, color, height)"
   ]
  },
  {
   "cell_type": "code",
   "execution_count": null,
   "id": "a4150d4b",
   "metadata": {},
   "outputs": [],
   "source": [
    "# create_hvplot_line_chart(data, title, xlabel, ylabel, color, height)"
   ]
  },
  {
   "cell_type": "code",
   "execution_count": null,
   "id": "0cb377c6",
   "metadata": {},
   "outputs": [],
   "source": [
    "# create_scatter_chart(data, title, x, y, color, height)"
   ]
  }
 ],
 "metadata": {
  "kernelspec": {
   "display_name": "Python [conda env:pyvizenv] *",
   "language": "python",
   "name": "conda-env-pyvizenv-py"
  },
  "language_info": {
   "codemirror_mode": {
    "name": "ipython",
    "version": 3
   },
   "file_extension": ".py",
   "mimetype": "text/x-python",
   "name": "python",
   "nbconvert_exporter": "python",
   "pygments_lexer": "ipython3",
   "version": "3.7.10"
  }
 },
 "nbformat": 4,
 "nbformat_minor": 5
}
