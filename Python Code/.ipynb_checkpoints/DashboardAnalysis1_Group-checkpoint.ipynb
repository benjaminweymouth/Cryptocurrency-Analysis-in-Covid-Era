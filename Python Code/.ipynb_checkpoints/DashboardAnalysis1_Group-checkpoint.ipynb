{
 "cells": [
  {
   "cell_type": "markdown",
   "id": "fa331d48",
   "metadata": {},
   "source": [
    "#### Jupyter Notebook for Dashboard \n",
    "\n"
   ]
  }
 ],
 "metadata": {
  "kernelspec": {
   "display_name": "Python [conda env:pyvizenv] *",
   "language": "python",
   "name": "conda-env-pyvizenv-py"
  },
  "language_info": {
   "codemirror_mode": {
    "name": "ipython",
    "version": 3
   },
   "file_extension": ".py",
   "mimetype": "text/x-python",
   "name": "python",
   "nbconvert_exporter": "python",
   "pygments_lexer": "ipython3",
   "version": "3.7.10"
  }
 },
 "nbformat": 4,
 "nbformat_minor": 5
}
