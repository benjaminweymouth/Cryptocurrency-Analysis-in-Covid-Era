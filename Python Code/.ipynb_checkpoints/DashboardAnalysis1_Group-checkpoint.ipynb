{
 "cells": [
  {
   "cell_type": "markdown",
   "id": "31ad9650",
   "metadata": {},
   "source": [
    "#### Jupyter Notebook for Dashboard \n",
    "\n"
   ]
  },
  {
   "cell_type": "code",
   "execution_count": null,
   "id": "84249983",
   "metadata": {},
   "outputs": [],
   "source": [
    "# imports\n",
    "import os\n",
    "import requests\n",
    "import json\n",
    "import pandas as pd\n",
    "from dotenv import load_dotenv\n",
    "from requests import Request, Session\n",
    "from requests.exceptions import ConnectionError, Timeout, TooManyRedirects\n",
    "import json\n",
    "import panel as pn\n",
    "pn.extension('plotly')\n",
    "import plotly.express as px\n",
    "import hvplot.pandas\n",
    "import matplotlib.pyplot as plt\n",
    "import pandas as pd\n",
    "from pathlib import Path\n",
    "import seaborn as sns\n",
    "\n",
    "%matplotlib inline\n",
    "from panel.layout.gridstack import GridStack\n",
    "from panel.interact import interact, interactive, fixed, interact_manual"
   ]
  },
  {
   "cell_type": "code",
   "execution_count": null,
   "id": "c3ff1d16",
   "metadata": {},
   "outputs": [],
   "source": [
    "# Initialize the Panel Extensions (for Plotly)\n",
    "import panel as pn\n",
    "pn.extension(\"plotly\")"
   ]
  },
  {
   "cell_type": "code",
   "execution_count": null,
   "id": "811f2866",
   "metadata": {},
   "outputs": [],
   "source": [
    "#Use one new Python library that hasn't been covered in class. (Yfinance is yahoo finance)\n",
    "import yfinance as yf"
   ]
  },
  {
   "cell_type": "code",
   "execution_count": null,
   "id": "d00d592e",
   "metadata": {},
   "outputs": [],
   "source": [
    "# Load .env enviroment variables\n",
    "load_dotenv()"
   ]
  },
  {
   "cell_type": "markdown",
   "id": "83cf18a7",
   "metadata": {},
   "source": [
    "### Import Data"
   ]
  },
  {
   "cell_type": "code",
   "execution_count": null,
   "id": "cbe45347",
   "metadata": {},
   "outputs": [],
   "source": []
  },
  {
   "cell_type": "markdown",
   "id": "aefff609",
   "metadata": {},
   "source": [
    "### Ben's Globally available data"
   ]
  },
  {
   "cell_type": "code",
   "execution_count": null,
   "id": "689aedf1",
   "metadata": {},
   "outputs": [],
   "source": [
    "# BEN GLOBAL DATA SECTION \n",
    "#ben puts his code here "
   ]
  },
  {
   "cell_type": "code",
   "execution_count": null,
   "id": "9837bda9",
   "metadata": {},
   "outputs": [],
   "source": [
    "# BEN METHODS SECTION \n",
    "#create methods for plotting "
   ]
  },
  {
   "cell_type": "markdown",
   "id": "918887b3",
   "metadata": {},
   "source": [
    "### Sadia's Globally available data"
   ]
  },
  {
   "cell_type": "code",
   "execution_count": null,
   "id": "62ddc9c1",
   "metadata": {},
   "outputs": [],
   "source": [
    "# SADIA GLOBAL DATA SECTION \n",
    "# Sadia code goes here"
   ]
  },
  {
   "cell_type": "code",
   "execution_count": null,
   "id": "35218453",
   "metadata": {},
   "outputs": [],
   "source": [
    "#SADIA METHODS SECTION \n",
    "#create methods for plotting "
   ]
  },
  {
   "cell_type": "markdown",
   "id": "e0beb096",
   "metadata": {},
   "source": [
    "### Mo's Globally available data"
   ]
  },
  {
   "cell_type": "code",
   "execution_count": null,
   "id": "a4b01008",
   "metadata": {},
   "outputs": [],
   "source": [
    "# MO GLOBAL DATA SECTION \n",
    "# Mo code goes here"
   ]
  },
  {
   "cell_type": "code",
   "execution_count": null,
   "id": "cb000a78",
   "metadata": {},
   "outputs": [],
   "source": [
    "# MO METHODS SECTION \n",
    "#create methods for plotting "
   ]
  },
  {
   "cell_type": "markdown",
   "id": "f63e382a",
   "metadata": {},
   "source": [
    "### Panel Visualization Functions"
   ]
  },
  {
   "cell_type": "code",
   "execution_count": null,
   "id": "a2ad6aee",
   "metadata": {},
   "outputs": [],
   "source": [
    "def create_plot_line_chart(data, title, xlabel, ylabel, stacked, figsize):\n",
    "    \"\"\"\n",
    "    Create a line chart based in the data argument.\n",
    "    \"\"\"\n",
    "    new_plot_line_chart = data.plot(\n",
    "    title=title, xlabel=xlabel, rot=45, ylabel=ylabel, stacked=stacked,figsize=figsize)\n",
    "    #plt.show() \n",
    "    return new_line_chart\n",
    "\n",
    "def create_hvplot_bar_chart(data, title, xlabel, ylabel, color, height):\n",
    "    \"\"\"\n",
    "    Create a barplot based in the data argument.\n",
    "    \"\"\"\n",
    "    \n",
    "    new_hvplot_bar_chart = data.hvplot.bar(\n",
    "   \n",
    "    title=title, xlabel=xlabel, rot=45, ylabel=ylabel, color=color, height=height)\n",
    "    #plt.show()  \n",
    "    \n",
    "    return new_bar_chart \n",
    "\n",
    "def create_hvplot_line_chart(data, title, xlabel, ylabel, color, height):\n",
    "    \"\"\"\n",
    "    Create a line chart based in the data argument.\n",
    "    \"\"\"\n",
    "    new_hvplot_line_chart = data.hvplot(\n",
    "    title=title, xlabel=xlabel, rot=45, ylabel=ylabel, color=color,height=height)\n",
    "    #plt.show() \n",
    "    return new_line_chart\n",
    "\n",
    "def create_scatter_chart(data, title, x, y, color, height):\n",
    "    \"\"\"\n",
    "    Create a line chart based in the data argument.\n",
    "    \"\"\"\n",
    "    new_scatter_chart = px.scatter(\n",
    "    data=data, title=title, x=x, y=y, color=color,height=height)\n",
    "    #plt.show() \n",
    "    return new_line_chart"
   ]
  },
  {
   "cell_type": "markdown",
   "id": "18390d2a",
   "metadata": {},
   "source": [
    "## Panel Dashboard\n",
    "\n",
    "In this section, you will combine all of the plots into a single dashboard view using Panel. Be creative with your dashboard design!"
   ]
  },
  {
   "cell_type": "code",
   "execution_count": null,
   "id": "5ae4ebbb",
   "metadata": {},
   "outputs": [],
   "source": [
    "#dashboard code goes here "
   ]
  },
  {
   "cell_type": "markdown",
   "id": "73ed96e0",
   "metadata": {},
   "source": [
    "## Serve the Panel Dashboard"
   ]
  },
  {
   "cell_type": "code",
   "execution_count": null,
   "id": "78bc4c97",
   "metadata": {},
   "outputs": [],
   "source": [
    "#please ignore error messages, the dashboard works on local machine. \n",
    "#please see gif recording as well, for data visualization / graphs / charts \n",
    "my_dashboard.servable(location=True, area='main')"
   ]
  },
  {
   "cell_type": "markdown",
   "id": "325accd6",
   "metadata": {},
   "source": [
    "# Debugging\n",
    "\n",
    "Note: Some of the Plotly express plots may not render in the notebook through the panel functions.\n",
    "\n",
    "However, you can test each plot by uncommenting the following code"
   ]
  },
  {
   "cell_type": "code",
   "execution_count": null,
   "id": "38d1fa72",
   "metadata": {},
   "outputs": [],
   "source": [
    "# create_plot_line_chart(data, title, xlabel, ylabel, stacked, figsize)"
   ]
  },
  {
   "cell_type": "code",
   "execution_count": null,
   "id": "8c861997",
   "metadata": {},
   "outputs": [],
   "source": [
    "# create_hvplot_bar_chart(data, title, xlabel, ylabel, color, height)"
   ]
  },
  {
   "cell_type": "code",
   "execution_count": null,
   "id": "6267291e",
   "metadata": {},
   "outputs": [],
   "source": [
    "# create_hvplot_line_chart(data, title, xlabel, ylabel, color, height)"
   ]
  },
  {
   "cell_type": "code",
   "execution_count": null,
   "id": "15752b93",
   "metadata": {},
   "outputs": [],
   "source": [
    "# create_scatter_chart(data, title, x, y, color, height)"
   ]
  }
 ],
 "metadata": {
  "kernelspec": {
   "display_name": "Python [conda env:pyvizenv] *",
   "language": "python",
   "name": "conda-env-pyvizenv-py"
  },
  "language_info": {
   "codemirror_mode": {
    "name": "ipython",
    "version": 3
   },
   "file_extension": ".py",
   "mimetype": "text/x-python",
   "name": "python",
   "nbconvert_exporter": "python",
   "pygments_lexer": "ipython3",
   "version": "3.7.10"
  }
 },
 "nbformat": 4,
 "nbformat_minor": 5
}
