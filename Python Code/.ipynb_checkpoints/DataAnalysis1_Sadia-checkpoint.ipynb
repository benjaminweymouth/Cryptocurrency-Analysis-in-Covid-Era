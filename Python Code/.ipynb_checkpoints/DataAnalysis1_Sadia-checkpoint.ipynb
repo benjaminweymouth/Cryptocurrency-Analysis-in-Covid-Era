{
 "cells": [
  {
   "cell_type": "markdown",
   "id": "dd42f886",
   "metadata": {},
   "source": [
    "##Jupyter Notebook for Data Analysis, Data Cleaning, Data Presentation "
   ]
  },
  {
   "cell_type": "code",
   "execution_count": 2,
   "id": "91828980",
   "metadata": {},
   "outputs": [],
   "source": [
    "import os\n",
    "import requests\n",
    "import json\n",
    "import pandas as pd\n",
    "from dotenv import load_dotenv\n",
    "from requests import Request, Session\n",
    "from requests.exceptions import ConnectionError, Timeout, TooManyRedirects\n",
    "import json\n",
    "\n",
    "\n",
    "%matplotlib inline"
   ]
  },
  {
   "cell_type": "code",
   "execution_count": 3,
   "id": "062e37f9",
   "metadata": {},
   "outputs": [
    {
     "name": "stdout",
     "output_type": "stream",
     "text": [
      "{'status': {'timestamp': '2021-09-29T23:28:22.508Z', 'error_code': 0, 'error_message': None, 'elapsed': 14, 'credit_count': 1, 'notice': None, 'total_count': 6881}, 'data': [{'id': 1, 'name': 'Bitcoin', 'symbol': 'BTC', 'slug': 'bitcoin', 'num_market_pairs': 8593, 'date_added': '2013-04-28T00:00:00.000Z', 'tags': ['mineable', 'pow', 'sha-256', 'store-of-value', 'state-channels', 'coinbase-ventures-portfolio', 'three-arrows-capital-portfolio', 'polychain-capital-portfolio', 'binance-labs-portfolio', 'arrington-xrp-capital', 'blockchain-capital-portfolio', 'boostvc-portfolio', 'cms-holdings-portfolio', 'dcg-portfolio', 'dragonfly-capital-portfolio', 'electric-capital-portfolio', 'fabric-ventures-portfolio', 'framework-ventures', 'galaxy-digital-portfolio', 'huobi-capital', 'alameda-research-portfolio', 'a16z-portfolio', '1confirmation-portfolio', 'winklevoss-capital', 'usv-portfolio', 'placeholder-ventures-portfolio', 'pantera-capital-portfolio', 'multicoin-capital-portfolio', 'paradigm-xzy-screener'], 'max_supply': 21000000, 'circulating_supply': 18829862, 'total_supply': 18829862, 'platform': None, 'cmc_rank': 1, 'last_updated': '2021-09-29T23:27:02.000Z', 'quote': {'CAD': {'price': 52787.84057242168, 'volume_24h': 39395512618.203835, 'percent_change_1h': 0.50128943, 'percent_change_24h': -1.05032471, 'percent_change_7d': -6.50125436, 'percent_change_30d': -12.60395565, 'percent_change_60d': -1.09619718, 'percent_change_90d': 23.77779863, 'market_cap': 993987753256.7013, 'market_cap_dominance': 42.448, 'fully_diluted_market_cap': 1108544652020.857, 'last_updated': '2021-09-29T23:27:32.000Z'}}}]}\n"
     ]
    }
   ],
   "source": [
    "#This example uses Python 2.7 and the python-request library.\n",
    "\n",
    "url = 'https://pro-api.coinmarketcap.com/v1/cryptocurrency/listings/latest'\n",
    "parameters = {\n",
    "  'start':'1',\n",
    "  'limit':'1',\n",
    "  'convert':'CAD'\n",
    "}\n",
    "headers = {\n",
    "  'Accepts': 'application/json',\n",
    "  'X-CMC_PRO_API_KEY': 'c8a94559-35ba-4cd1-8863-10ed633f498b',\n",
    "}\n",
    "\n",
    "session = Session()\n",
    "session.headers.update(headers)\n",
    "\n",
    "try:\n",
    "  response = session.get(url, params=parameters)\n",
    "  response_data = json.loads(response.text)\n",
    "  print(response_data)\n",
    "except (ConnectionError, Timeout, TooManyRedirects) as e:\n",
    "  print(e)\n",
    " "
   ]
  },
  {
   "cell_type": "code",
   "execution_count": 4,
   "id": "3805e61d",
   "metadata": {},
   "outputs": [
    {
     "name": "stdout",
     "output_type": "stream",
     "text": [
      "[{'id': 1, 'name': 'Bitcoin', 'symbol': 'BTC', 'slug': 'bitcoin', 'num_market_pairs': 8593, 'date_added': '2013-04-28T00:00:00.000Z', 'tags': ['mineable', 'pow', 'sha-256', 'store-of-value', 'state-channels', 'coinbase-ventures-portfolio', 'three-arrows-capital-portfolio', 'polychain-capital-portfolio', 'binance-labs-portfolio', 'arrington-xrp-capital', 'blockchain-capital-portfolio', 'boostvc-portfolio', 'cms-holdings-portfolio', 'dcg-portfolio', 'dragonfly-capital-portfolio', 'electric-capital-portfolio', 'fabric-ventures-portfolio', 'framework-ventures', 'galaxy-digital-portfolio', 'huobi-capital', 'alameda-research-portfolio', 'a16z-portfolio', '1confirmation-portfolio', 'winklevoss-capital', 'usv-portfolio', 'placeholder-ventures-portfolio', 'pantera-capital-portfolio', 'multicoin-capital-portfolio', 'paradigm-xzy-screener'], 'max_supply': 21000000, 'circulating_supply': 18829862, 'total_supply': 18829862, 'platform': None, 'cmc_rank': 1, 'last_updated': '2021-09-29T23:27:02.000Z', 'quote': {'CAD': {'price': 52787.84057242168, 'volume_24h': 39395512618.203835, 'percent_change_1h': 0.50128943, 'percent_change_24h': -1.05032471, 'percent_change_7d': -6.50125436, 'percent_change_30d': -12.60395565, 'percent_change_60d': -1.09619718, 'percent_change_90d': 23.77779863, 'market_cap': 993987753256.7013, 'market_cap_dominance': 42.448, 'fully_diluted_market_cap': 1108544652020.857, 'last_updated': '2021-09-29T23:27:32.000Z'}}}]\n"
     ]
    }
   ],
   "source": [
    "btc_current_value = response_data[\"data\"]\n",
    "print(btc_current_value)"
   ]
  },
  {
   "cell_type": "code",
   "execution_count": 5,
   "id": "05fcb2d2",
   "metadata": {},
   "outputs": [
    {
     "name": "stdout",
     "output_type": "stream",
     "text": [
      "{\n",
      "    \"status\": {\n",
      "        \"timestamp\": \"2021-09-29T23:28:22.508Z\",\n",
      "        \"error_code\": 0,\n",
      "        \"error_message\": null,\n",
      "        \"elapsed\": 14,\n",
      "        \"credit_count\": 1,\n",
      "        \"notice\": null,\n",
      "        \"total_count\": 6881\n",
      "    },\n",
      "    \"data\": [\n",
      "        {\n",
      "            \"id\": 1,\n",
      "            \"name\": \"Bitcoin\",\n",
      "            \"symbol\": \"BTC\",\n",
      "            \"slug\": \"bitcoin\",\n",
      "            \"num_market_pairs\": 8593,\n",
      "            \"date_added\": \"2013-04-28T00:00:00.000Z\",\n",
      "            \"tags\": [\n",
      "                \"mineable\",\n",
      "                \"pow\",\n",
      "                \"sha-256\",\n",
      "                \"store-of-value\",\n",
      "                \"state-channels\",\n",
      "                \"coinbase-ventures-portfolio\",\n",
      "                \"three-arrows-capital-portfolio\",\n",
      "                \"polychain-capital-portfolio\",\n",
      "                \"binance-labs-portfolio\",\n",
      "                \"arrington-xrp-capital\",\n",
      "                \"blockchain-capital-portfolio\",\n",
      "                \"boostvc-portfolio\",\n",
      "                \"cms-holdings-portfolio\",\n",
      "                \"dcg-portfolio\",\n",
      "                \"dragonfly-capital-portfolio\",\n",
      "                \"electric-capital-portfolio\",\n",
      "                \"fabric-ventures-portfolio\",\n",
      "                \"framework-ventures\",\n",
      "                \"galaxy-digital-portfolio\",\n",
      "                \"huobi-capital\",\n",
      "                \"alameda-research-portfolio\",\n",
      "                \"a16z-portfolio\",\n",
      "                \"1confirmation-portfolio\",\n",
      "                \"winklevoss-capital\",\n",
      "                \"usv-portfolio\",\n",
      "                \"placeholder-ventures-portfolio\",\n",
      "                \"pantera-capital-portfolio\",\n",
      "                \"multicoin-capital-portfolio\",\n",
      "                \"paradigm-xzy-screener\"\n",
      "            ],\n",
      "            \"max_supply\": 21000000,\n",
      "            \"circulating_supply\": 18829862,\n",
      "            \"total_supply\": 18829862,\n",
      "            \"platform\": null,\n",
      "            \"cmc_rank\": 1,\n",
      "            \"last_updated\": \"2021-09-29T23:27:02.000Z\",\n",
      "            \"quote\": {\n",
      "                \"CAD\": {\n",
      "                    \"price\": 52787.84057242168,\n",
      "                    \"volume_24h\": 39395512618.203835,\n",
      "                    \"percent_change_1h\": 0.50128943,\n",
      "                    \"percent_change_24h\": -1.05032471,\n",
      "                    \"percent_change_7d\": -6.50125436,\n",
      "                    \"percent_change_30d\": -12.60395565,\n",
      "                    \"percent_change_60d\": -1.09619718,\n",
      "                    \"percent_change_90d\": 23.77779863,\n",
      "                    \"market_cap\": 993987753256.7013,\n",
      "                    \"market_cap_dominance\": 42.448,\n",
      "                    \"fully_diluted_market_cap\": 1108544652020.857,\n",
      "                    \"last_updated\": \"2021-09-29T23:27:32.000Z\"\n",
      "                }\n",
      "            }\n",
      "        }\n",
      "    ]\n",
      "}\n"
     ]
    }
   ],
   "source": [
    "print(json.dumps(response_data, indent=4))"
   ]
  },
  {
   "cell_type": "code",
   "execution_count": 5,
   "id": "e865894c",
   "metadata": {},
   "outputs": [],
   "source": [
    "# note, for the Library that has to be new we can use Statsmodels.tsa.seasonal import seasonal_decompose "
   ]
  },
  {
   "cell_type": "code",
   "execution_count": 6,
   "id": "b64a9d36-9b2b-4fe3-9f08-e4103ce1e131",
   "metadata": {},
   "outputs": [
    {
     "name": "stdout",
     "output_type": "stream",
     "text": [
      "{\"quoteResponse\":{\"result\":[{\"language\":\"en-US\",\"region\":\"US\",\"quoteType\":\"EQUITY\",\"quoteSourceName\":\"Nasdaq Real Time Price\",\"triggerable\":true,\"currency\":\"USD\",\"exchange\":\"NMS\",\"longName\":\"Apple Inc.\",\"messageBoardId\":\"finmb_24937\",\"exchangeTimezoneName\":\"America/New_York\",\"exchangeTimezoneShortName\":\"EDT\",\"gmtOffSetMilliseconds\":-14400000,\"market\":\"us_market\",\"esgPopulated\":false,\"marketState\":\"POST\",\"shortName\":\"Apple Inc.\",\"priceHint\":2,\"postMarketChangePercent\":0.378067,\"postMarketTime\":1632958236,\"postMarketPrice\":143.37,\"postMarketChange\":0.539993,\"regularMarketChange\":0.91999817,\"regularMarketChangePercent\":0.6482969,\"regularMarketTime\":1632945603,\"regularMarketPrice\":142.83,\"regularMarketDayHigh\":144.45,\"regularMarketDayRange\":\"142.03 - 144.45\",\"regularMarketDayLow\":142.03,\"regularMarketVolume\":74327788,\"firstTradeDateMilliseconds\":345479400000,\"regularMarketPreviousClose\":141.91,\"bid\":143.25,\"ask\":143.17,\"bidSize\":10,\"askSize\":18,\"fullExchangeName\":\"NasdaqGS\",\"financialCurrency\":\"USD\",\"regularMarketOpen\":142.47,\"averageDailyVolume3Month\":80330539,\"averageDailyVolume10Day\":82426171,\"fiftyTwoWeekLowChange\":35.510002,\"fiftyTwoWeekLowChangePercent\":0.33087963,\"fiftyTwoWeekRange\":\"107.32 - 157.26\",\"fiftyTwoWeekHighChange\":-14.429993,\"fiftyTwoWeekHighChangePercent\":-0.091758825,\"fiftyTwoWeekLow\":107.32,\"fiftyTwoWeekHigh\":157.26,\"dividendDate\":1628726400,\"earningsTimestamp\":1627403400,\"earningsTimestampStart\":1635332340,\"earningsTimestampEnd\":1635768000,\"trailingAnnualDividendRate\":0.835,\"trailingPE\":27.96202,\"trailingAnnualDividendYield\":0.005884011,\"epsTrailingTwelveMonths\":5.108,\"epsForward\":5.68,\"epsCurrentYear\":5.59,\"priceEpsCurrentYear\":25.550983,\"sharesOutstanding\":16530199552,\"bookValue\":3.882,\"fiftyDayAverage\":148.88257,\"fiftyDayAverageChange\":-6.0525665,\"fiftyDayAverageChangePercent\":-0.040653292,\"twoHundredDayAverage\":136.86145,\"twoHundredDayAverageChange\":5.9685516,\"twoHundredDayAverageChangePercent\":0.043610174,\"marketCap\":2361008324608,\"forwardPE\":25.146128,\"priceToBook\":36.792892,\"sourceInterval\":15,\"exchangeDataDelayedBy\":0,\"averageAnalystRating\":\"1.9 - Buy\",\"tradeable\":false,\"displayName\":\"Apple\",\"symbol\":\"AAPL\"},{\"language\":\"en-US\",\"region\":\"US\",\"quoteType\":\"CRYPTOCURRENCY\",\"quoteSourceName\":\"CoinMarketCap\",\"triggerable\":true,\"currency\":\"USD\",\"exchange\":\"CCC\",\"messageBoardId\":\"finmb_BTC_CCC\",\"exchangeTimezoneName\":\"Europe/London\",\"exchangeTimezoneShortName\":\"BST\",\"gmtOffSetMilliseconds\":3600000,\"market\":\"ccc_market\",\"esgPopulated\":false,\"marketState\":\"REGULAR\",\"shortName\":\"Bitcoin USD\",\"priceHint\":2,\"circulatingSupply\":18829862,\"lastMarket\":\"CoinMarketCap\",\"volume24Hr\":30860890112,\"volumeAllCurrencies\":30860890112,\"fromCurrency\":\"BTC\",\"toCurrency\":\"USD=X\",\"regularMarketChange\":-144.22266,\"regularMarketChangePercent\":-0.3471379,\"regularMarketTime\":1632958142,\"regularMarketPrice\":41402.543,\"regularMarketDayHigh\":42488.766,\"regularMarketDayRange\":\"40890.543 - 42488.766\",\"regularMarketDayLow\":40890.543,\"regularMarketVolume\":30860890112,\"firstTradeDateMilliseconds\":1410908400000,\"regularMarketPreviousClose\":41084.562,\"fullExchangeName\":\"CCC\",\"regularMarketOpen\":41084.562,\"averageDailyVolume3Month\":32023192377,\"averageDailyVolume10Day\":35826268669,\"startDate\":1367103600,\"coinImageUrl\":\"https://s.yimg.com/uc/fin/img/reports-thumbnails/1.png\",\"fiftyTwoWeekLowChange\":30962.23,\"fiftyTwoWeekLowChangePercent\":2.9656425,\"fiftyTwoWeekRange\":\"10440.312 - 64863.098\",\"fiftyTwoWeekHighChange\":-23460.555,\"fiftyTwoWeekHighChangePercent\":-0.3616934,\"fiftyTwoWeekLow\":10440.312,\"fiftyTwoWeekHigh\":64863.098,\"fiftyDayAverage\":46686.7,\"fiftyDayAverageChange\":-5284.1562,\"fiftyDayAverageChangePercent\":-0.113183334,\"twoHundredDayAverage\":45447.38,\"twoHundredDayAverageChange\":-4044.836,\"twoHundredDayAverageChangePercent\":-0.089000426,\"marketCap\":779604197376,\"sourceInterval\":15,\"exchangeDataDelayedBy\":0,\"tradeable\":false,\"symbol\":\"BTC-USD\"},{\"language\":\"en-US\",\"region\":\"US\",\"quoteType\":\"CURRENCY\",\"quoteSourceName\":\"Delayed Quote\",\"triggerable\":true,\"currency\":\"USD\",\"shortName\":\"EUR/USD\",\"regularMarketChange\":6.7317486E-4,\"regularMarketChangePercent\":0.05803428,\"regularMarketPrice\":1.1606314,\"regularMarketDayHigh\":1.1606314,\"regularMarketDayLow\":1.1599582,\"regularMarketPreviousClose\":1.1599582,\"bid\":1.1606314,\"ask\":1.1599582,\"regularMarketOpen\":1.1600928,\"fiftyTwoWeekLow\":1.1599582,\"fiftyTwoWeekHigh\":1.2350253,\"fiftyDayAverage\":1.1772298,\"twoHundredDayAverage\":1.1916932,\"exchange\":\"CCY\",\"messageBoardId\":\"finmb_EUR_X\",\"exchangeTimezoneName\":\"Europe/London\",\"exchangeTimezoneShortName\":\"BST\",\"gmtOffSetMilliseconds\":3600000,\"market\":\"ccy_market\",\"esgPopulated\":false,\"marketState\":\"REGULAR\",\"priceHint\":4,\"regularMarketTime\":1632958202,\"regularMarketDayRange\":\"1.1599582 - 1.1606314\",\"regularMarketVolume\":0,\"firstTradeDateMilliseconds\":1070236800000,\"bidSize\":0,\"askSize\":0,\"fullExchangeName\":\"CCY\",\"averageDailyVolume3Month\":0,\"averageDailyVolume10Day\":0,\"fiftyTwoWeekLowChange\":0.05189997,\"fiftyTwoWeekLowChangePercent\":0.044742964,\"fiftyTwoWeekRange\":\"1.1599582 - 1.2350253\",\"fiftyTwoWeekHighChange\":-5.0002337E-4,\"fiftyTwoWeekHighChangePercent\":-4.0486892E-4,\"fiftyDayAverageChange\":0.012148142,\"fiftyDayAverageChangePercent\":0.010319262,\"twoHundredDayAverageChange\":0.022457778,\"twoHundredDayAverageChangePercent\":0.01884527,\"sourceInterval\":15,\"exchangeDataDelayedBy\":0,\"tradeable\":false,\"symbol\":\"EURUSD=X\"}],\"error\":null}}\n"
     ]
    }
   ],
   "source": [
    "import requests\n",
    "\n",
    "url = \"https://rest.yahoofinanceapi.com/v6/finance/quote\"\n",
    "\n",
    "querystring = {\"symbols\":\"AAPL,BTC-USD,EURUSD=X\"}\n",
    "\n",
    "headers = {\n",
    "    'x-api-key': \"AUL3RCsewv9A7Bb5H1Ew34e3MQlz13m86LCPgn06\"\n",
    "    }\n",
    "\n",
    "response = requests.request(\"GET\", url, headers=headers, params=querystring)\n",
    "\n",
    "print(response.text)"
   ]
  },
  {
   "cell_type": "code",
   "execution_count": null,
   "id": "2453d964-73e0-4f11-b120-7a3341329aaf",
   "metadata": {},
   "outputs": [],
   "source": []
  }
 ],
 "metadata": {
  "interpreter": {
   "hash": "1a1c8e5b53816e48015fa76ea3d1ab04c09fe9ec79358180f2fd426c46aa1d3b"
  },
  "kernelspec": {
   "display_name": "Python 3 (ipykernel)",
   "language": "python",
   "name": "python3"
  },
  "language_info": {
   "codemirror_mode": {
    "name": "ipython",
    "version": 3
   },
   "file_extension": ".py",
   "mimetype": "text/x-python",
   "name": "python",
   "nbconvert_exporter": "python",
   "pygments_lexer": "ipython3",
   "version": "3.8.8"
  }
 },
 "nbformat": 4,
 "nbformat_minor": 5
}
