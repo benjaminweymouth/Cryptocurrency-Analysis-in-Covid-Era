{
 "cells": [
  {
   "cell_type": "markdown",
   "id": "ae0fb41b",
   "metadata": {},
   "source": [
    "#### Jupyter Notebook for Dashboard \n",
    "\n"
   ]
  },
  {
   "cell_type": "code",
   "execution_count": null,
   "id": "c51c9f77",
   "metadata": {},
   "outputs": [],
   "source": [
    "# imports\n",
    "import os\n",
    "import requests\n",
    "import json\n",
    "import pandas as pd\n",
    "from dotenv import load_dotenv\n",
    "from requests import Request, Session\n",
    "from requests.exceptions import ConnectionError, Timeout, TooManyRedirects\n",
    "import json\n",
    "import panel as pn\n",
    "pn.extension('plotly')\n",
    "import plotly.express as px\n",
    "import hvplot.pandas\n",
    "import matplotlib.pyplot as plt\n",
    "import pandas as pd\n",
    "from pathlib import Path\n",
    "import seaborn as sns\n",
    "\n",
    "%matplotlib inline\n",
    "from panel.layout.gridstack import GridStack\n",
    "from panel.interact import interact, interactive, fixed, interact_manual"
   ]
  },
  {
   "cell_type": "code",
   "execution_count": null,
   "id": "e239bce0",
   "metadata": {},
   "outputs": [],
   "source": [
    "# Initialize the Panel Extensions (for Plotly)\n",
    "import panel as pn\n",
    "pn.extension(\"plotly\")"
   ]
  },
  {
   "cell_type": "code",
   "execution_count": null,
   "id": "165cffd4",
   "metadata": {},
   "outputs": [],
   "source": [
    "#Use one new Python library that hasn't been covered in class. (Yfinance is yahoo finance)\n",
    "import yfinance as yf"
   ]
  },
  {
   "cell_type": "code",
   "execution_count": null,
   "id": "c4962c56",
   "metadata": {},
   "outputs": [],
   "source": [
    "# Load .env enviroment variables\n",
    "load_dotenv()"
   ]
  },
  {
   "cell_type": "markdown",
   "id": "a5941797",
   "metadata": {},
   "source": [
    "### Import Covid-19 Case Data"
   ]
  },
  {
   "cell_type": "code",
   "execution_count": null,
   "id": "eaf799fb",
   "metadata": {},
   "outputs": [],
   "source": [
    "#data collected from the World Health Organization\n",
    "#https://covid19.who.int/info/\n",
    "    \n",
    "csv_path = Path(\"../Resources/WHO-COVID-19-global-data.csv\")\n",
    "df_covid_cases = pd.read_csv(csv_path)\n",
    "df_covid_cases.head()\n"
   ]
  },
  {
   "cell_type": "markdown",
   "id": "61f05856",
   "metadata": {},
   "source": [
    "### Ben's Globally available data"
   ]
  },
  {
   "cell_type": "code",
   "execution_count": null,
   "id": "70acf498",
   "metadata": {},
   "outputs": [],
   "source": [
    "# BEN GLOBAL DATA SECTION \n",
    "btc= yf.Ticker(\"BTC-USD\")\n",
    "\n",
    "#get BTC pre and post covid data \n",
    "btc_historical_precovid = btc.history(start=\"2018-03-01\", end=\"2020-03-01\")\n",
    "btc_historical_postcovid = btc.history(start=\"2020-03-01\", end=\"2021-06-01\")\n",
    "btc_historical_precovid.drop(btc_historical_precovid.columns.difference(['Close']), 1, inplace=True)\n",
    "btc_historical_postcovid.drop(btc_historical_postcovid.columns.difference(['Close']), 1, inplace=True)\n",
    "\n",
    "#Change close to specific column name \n",
    "btc_historical_precovid = btc_historical_precovid.rename(columns={\"Close\": \"BTC\"})\n",
    "#Change close to specific column name btc_historical_postcovid\n",
    "btc_historical_postcovid = btc_historical_postcovid.rename(columns={\"Close\": \"BTC\"})\n",
    "\n",
    "#Ethereum get pre and post data \n",
    "eth= yf.Ticker(\"ETH-USD\")\n",
    "eth_historical_precovid = eth.history(start=\"2018-03-01\", end=\"2020-03-01\")\n",
    "eth_historical_postcovid = eth.history(start=\"2020-03-01\", end=\"2021-03-01\")\n",
    "eth_historical_precovid.drop(eth_historical_precovid.columns.difference(['Close']), 1, inplace=True)\n",
    "eth_historical_postcovid.drop(eth_historical_postcovid.columns.difference(['Close']), 1, inplace=True)\n",
    " #Change close to specific column name \n",
    "eth_historical_precovid = eth_historical_precovid.rename(columns={\"Close\": \"ETH\"})\n",
    "#Change close to specific column name \n",
    "eth_historical_postcovid = eth_historical_postcovid.rename(columns={\"Close\": \"ETH\"})\n",
    "\n",
    "#litecoin get pre and post data \n",
    "ltc= yf.Ticker(\"LTC-USD\")\n",
    "ltc_historical_precovid = ltc.history(start=\"2018-03-01\", end=\"2020-03-01\")\n",
    "ltc_historical_postcovid = ltc.history(start=\"2020-03-01\", end=\"2021-03-01\")\n",
    "ltc_historical_precovid.drop(ltc_historical_precovid.columns.difference(['Close']), 1, inplace=True)\n",
    "ltc_historical_postcovid.drop(ltc_historical_postcovid.columns.difference(['Close']), 1, inplace=True)\n",
    "ltc_historical_precovid = ltc_historical_precovid.rename(columns={\"Close\": \"LTC\"})\n",
    "ltc_historical_postcovid = ltc_historical_postcovid.rename(columns={\"Close\": \"LTC\"})\n",
    "\n",
    "#VanEck Vectors Semiconductor ETF (SMH)  get pre and post data \n",
    "\n",
    "smh= yf.Ticker(\"SMH\")\n",
    "semiconductor_historical_precovid = smh.history(start=\"2018-03-01\", end=\"2020-03-01\")\n",
    "semiconductor_historical_postcovid = smh.history(start=\"2020-03-01\", end=\"2021-03-01\")\n",
    "semiconductor_historical_precovid.drop(semiconductor_historical_precovid.columns.difference(['Close']), 1, inplace=True)\n",
    "semiconductor_historical_postcovid.drop(semiconductor_historical_postcovid.columns.difference(['Close']), 1, inplace=True)\n",
    "semiconductor_historical_precovid = semiconductor_historical_precovid.rename(columns={\"Close\": \"Semiconductor ETF\"})\n",
    "semiconductor_historical_postcovid = semiconductor_historical_postcovid.rename(columns={\"Close\": \"Semiconductor ETF\"})\n",
    " \n",
    "# PRE-COVID Join ETH, BTC, LTC and Semiconductor data daily Returns into a single DataFrame with columns for each portfolio's returns.\n",
    "\n",
    "pre_covid_combined_df = pd.concat([btc_historical_precovid, eth_historical_precovid, ltc_historical_precovid,semiconductor_historical_precovid], axis=\"columns\", join=\"inner\")\n",
    "# Sort datetime index in ascending order (past to present)\n",
    "pre_covid_combined_df.sort_index(inplace=True)\n",
    "\n",
    "# POST-COVID Join ETH, BTC, LTC and Semiconductor data daily Returns into a single DataFrame with columns for each portfolio's returns.\n",
    "\n",
    "post_covid_combined_df = pd.concat([btc_historical_postcovid, eth_historical_postcovid, ltc_historical_postcovid,semiconductor_historical_postcovid], axis=\"columns\", join=\"inner\")\n",
    "\n",
    "# Sort datetime index in ascending order (past to present)\n",
    "post_covid_combined_df.sort_index(inplace=True)\n",
    "\n",
    "# Plot daily returns of all portfolios\n",
    "#PRE-COVID\n",
    "pre_daily_returns = pre_covid_combined_df.pct_change()\n",
    "pre_daily_returns.head()\n",
    "\n",
    "# Plot daily returns of all portfolios\n",
    "#POST-COVID\n",
    "post_daily_returns = post_covid_combined_df.pct_change()"
   ]
  },
  {
   "cell_type": "code",
   "execution_count": null,
   "id": "d03a018c",
   "metadata": {},
   "outputs": [],
   "source": [
    "# BEN METHODS SECTION \n",
    "#create methods for plotting "
   ]
  },
  {
   "cell_type": "markdown",
   "id": "5176d34d",
   "metadata": {},
   "source": [
    "### Sadia's Globally available data"
   ]
  },
  {
   "cell_type": "code",
   "execution_count": null,
   "id": "a0181c54",
   "metadata": {},
   "outputs": [],
   "source": [
    "# SADIA GLOBAL DATA SECTION \n",
    "# Sadia code goes here"
   ]
  },
  {
   "cell_type": "code",
   "execution_count": null,
   "id": "541514b7",
   "metadata": {},
   "outputs": [],
   "source": [
    "#SADIA METHODS SECTION \n",
    "#create methods for plotting "
   ]
  },
  {
   "cell_type": "markdown",
   "id": "981851c2",
   "metadata": {},
   "source": [
    "### Mo's Globally available data"
   ]
  },
  {
   "cell_type": "code",
   "execution_count": null,
   "id": "7417214f",
   "metadata": {},
   "outputs": [],
   "source": [
    "# MO GLOBAL DATA SECTION \n",
    "# Mo code goes here"
   ]
  },
  {
   "cell_type": "code",
   "execution_count": null,
   "id": "b564d7c8",
   "metadata": {},
   "outputs": [],
   "source": [
    "# MO METHODS SECTION \n",
    "#create methods for plotting "
   ]
  },
  {
   "cell_type": "markdown",
   "id": "80d289d8",
   "metadata": {},
   "source": [
    "### Panel Visualization Functions"
   ]
  },
  {
   "cell_type": "code",
   "execution_count": null,
   "id": "2029dd89",
   "metadata": {},
   "outputs": [],
   "source": [
    "def create_plot_line_chart(data, title, xlabel, ylabel, stacked, figsize):\n",
    "    \"\"\"\n",
    "    Create a line chart based in the data argument.\n",
    "    \"\"\"\n",
    "    new_plot_line_chart = data.plot(\n",
    "    title=title, xlabel=xlabel, rot=45, ylabel=ylabel, stacked=stacked,figsize=figsize)\n",
    "    #plt.show() \n",
    "    return new_line_chart\n",
    "\n",
    "def create_hvplot_bar_chart(data, title, xlabel, ylabel, color, height):\n",
    "    \"\"\"\n",
    "    Create a barplot based in the data argument.\n",
    "    \"\"\"\n",
    "    \n",
    "    new_hvplot_bar_chart = data.hvplot.bar(\n",
    "   \n",
    "    title=title, xlabel=xlabel, rot=45, ylabel=ylabel, color=color, height=height)\n",
    "    #plt.show()  \n",
    "    \n",
    "    return new_bar_chart \n",
    "\n",
    "def create_hvplot_line_chart(data, title, xlabel, ylabel, color, height):\n",
    "    \"\"\"\n",
    "    Create a line chart based in the data argument.\n",
    "    \"\"\"\n",
    "    new_hvplot_line_chart = data.hvplot(\n",
    "    title=title, xlabel=xlabel, rot=45, ylabel=ylabel, color=color,height=height)\n",
    "    #plt.show() \n",
    "    return new_line_chart\n",
    "\n",
    "def create_scatter_chart(data, title, x, y, color, height):\n",
    "    \"\"\"\n",
    "    Create a line chart based in the data argument.\n",
    "    \"\"\"\n",
    "    new_scatter_chart = px.scatter(\n",
    "    data=data, title=title, x=x, y=y, color=color,height=height)\n",
    "    #plt.show() \n",
    "    return new_line_chart"
   ]
  },
  {
   "cell_type": "markdown",
   "id": "5c9c3f4d",
   "metadata": {},
   "source": [
    "## Panel Dashboard\n",
    "\n",
    "In this section, you will combine all of the plots into a single dashboard view using Panel. Be creative with your dashboard design!"
   ]
  },
  {
   "cell_type": "code",
   "execution_count": null,
   "id": "47b002c8",
   "metadata": {},
   "outputs": [],
   "source": [
    "#dashboard code goes here "
   ]
  },
  {
   "cell_type": "markdown",
   "id": "8a62723f",
   "metadata": {},
   "source": [
    "## Serve the Panel Dashboard"
   ]
  },
  {
   "cell_type": "code",
   "execution_count": null,
   "id": "c8615042",
   "metadata": {},
   "outputs": [],
   "source": [
    "#please ignore error messages, the dashboard works on local machine. \n",
    "#please see gif recording as well, for data visualization / graphs / charts \n",
    "my_dashboard.servable(location=True, area='main')"
   ]
  },
  {
   "cell_type": "markdown",
   "id": "794cb697",
   "metadata": {},
   "source": [
    "# Debugging\n",
    "\n",
    "Note: Some of the Plotly express plots may not render in the notebook through the panel functions.\n",
    "\n",
    "However, you can test each plot by uncommenting the following code"
   ]
  },
  {
   "cell_type": "code",
   "execution_count": null,
   "id": "b6c48a5f",
   "metadata": {},
   "outputs": [],
   "source": [
    "# create_plot_line_chart(data, title, xlabel, ylabel, stacked, figsize)"
   ]
  },
  {
   "cell_type": "code",
   "execution_count": null,
   "id": "58cea564",
   "metadata": {},
   "outputs": [],
   "source": [
    "# create_hvplot_bar_chart(data, title, xlabel, ylabel, color, height)"
   ]
  },
  {
   "cell_type": "code",
   "execution_count": null,
   "id": "f3c30bbc",
   "metadata": {},
   "outputs": [],
   "source": [
    "# create_hvplot_line_chart(data, title, xlabel, ylabel, color, height)"
   ]
  },
  {
   "cell_type": "code",
   "execution_count": null,
   "id": "cccf474a",
   "metadata": {},
   "outputs": [],
   "source": [
    "# create_scatter_chart(data, title, x, y, color, height)"
   ]
  }
 ],
 "metadata": {
  "kernelspec": {
   "display_name": "Python [conda env:pyvizenv] *",
   "language": "python",
   "name": "conda-env-pyvizenv-py"
  },
  "language_info": {
   "codemirror_mode": {
    "name": "ipython",
    "version": 3
   },
   "file_extension": ".py",
   "mimetype": "text/x-python",
   "name": "python",
   "nbconvert_exporter": "python",
   "pygments_lexer": "ipython3",
   "version": "3.7.10"
  }
 },
 "nbformat": 4,
 "nbformat_minor": 5
}
