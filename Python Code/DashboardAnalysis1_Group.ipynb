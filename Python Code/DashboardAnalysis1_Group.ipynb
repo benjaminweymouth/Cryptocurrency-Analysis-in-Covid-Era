{
 "cells": [
  {
   "cell_type": "markdown",
   "id": "876d089e",
   "metadata": {},
   "source": [
    "#### Jupyter Notebook for Dashboard \n",
    "\n"
   ]
  },
  {
   "cell_type": "code",
   "execution_count": null,
   "id": "859086a3",
   "metadata": {},
   "outputs": [],
   "source": [
    "# imports\n",
    "import os\n",
    "import requests\n",
    "import json\n",
    "import pandas as pd\n",
    "from dotenv import load_dotenv\n",
    "from requests import Request, Session\n",
    "from requests.exceptions import ConnectionError, Timeout, TooManyRedirects\n",
    "import json\n",
    "import panel as pn\n",
    "pn.extension('plotly')\n",
    "import plotly.express as px\n",
    "import hvplot.pandas\n",
    "import matplotlib.pyplot as plt\n",
    "import pandas as pd\n",
    "from pathlib import Path\n",
    "import seaborn as sns\n",
    "\n",
    "%matplotlib inline\n",
    "from panel.layout.gridstack import GridStack\n",
    "from panel.interact import interact, interactive, fixed, interact_manual"
   ]
  },
  {
   "cell_type": "code",
   "execution_count": null,
   "id": "b0e5bd1c",
   "metadata": {},
   "outputs": [],
   "source": [
    "# Initialize the Panel Extensions (for Plotly)\n",
    "import panel as pn\n",
    "pn.extension(\"plotly\")"
   ]
  },
  {
   "cell_type": "code",
   "execution_count": null,
   "id": "d0bcbec8",
   "metadata": {},
   "outputs": [],
   "source": [
    "#Use one new Python library that hasn't been covered in class. (Yfinance is yahoo finance)\n",
    "import yfinance as yf"
   ]
  },
  {
   "cell_type": "code",
   "execution_count": null,
   "id": "c8872d95",
   "metadata": {},
   "outputs": [],
   "source": [
    "# Load .env enviroment variables\n",
    "load_dotenv()"
   ]
  },
  {
   "cell_type": "markdown",
   "id": "ded96615",
   "metadata": {},
   "source": [
    "### Import Covid-19 Case Data"
   ]
  },
  {
   "cell_type": "code",
   "execution_count": null,
   "id": "7faa7d68",
   "metadata": {},
   "outputs": [],
   "source": [
    "#data collected from the World Health Organization\n",
    "#https://covid19.who.int/info/\n",
    "    \n",
    "csv_path = Path(\"../Resources/WHO-COVID-19-global-data.csv\")\n",
    "df_covid_cases = pd.read_csv(csv_path)\n",
    "df_covid_cases.head()\n"
   ]
  },
  {
   "cell_type": "markdown",
   "id": "3db2277c",
   "metadata": {},
   "source": [
    "### Ben's Globally available data"
   ]
  },
  {
   "cell_type": "code",
   "execution_count": null,
   "id": "84b9d883",
   "metadata": {},
   "outputs": [],
   "source": [
    "# BEN GLOBAL DATA SECTION \n",
    "#ben puts his code here "
   ]
  },
  {
   "cell_type": "code",
   "execution_count": null,
   "id": "11a016be",
   "metadata": {},
   "outputs": [],
   "source": [
    "# BEN METHODS SECTION \n",
    "#create methods for plotting "
   ]
  },
  {
   "cell_type": "markdown",
   "id": "34605729",
   "metadata": {},
   "source": [
    "### Sadia's Globally available data"
   ]
  },
  {
   "cell_type": "code",
   "execution_count": null,
   "id": "6edd46c0",
   "metadata": {},
   "outputs": [],
   "source": [
    "# SADIA GLOBAL DATA SECTION \n",
    "# Sadia code goes here"
   ]
  },
  {
   "cell_type": "code",
   "execution_count": null,
   "id": "84525bc1",
   "metadata": {},
   "outputs": [],
   "source": [
    "#SADIA METHODS SECTION \n",
    "#create methods for plotting "
   ]
  },
  {
   "cell_type": "markdown",
   "id": "c5d85238",
   "metadata": {},
   "source": [
    "### Mo's Globally available data"
   ]
  },
  {
   "cell_type": "code",
   "execution_count": null,
   "id": "ff5941e8",
   "metadata": {},
   "outputs": [],
   "source": [
    "# MO GLOBAL DATA SECTION \n",
    "# Mo code goes here"
   ]
  },
  {
   "cell_type": "code",
   "execution_count": null,
   "id": "ae53bf85",
   "metadata": {},
   "outputs": [],
   "source": [
    "# MO METHODS SECTION \n",
    "#create methods for plotting "
   ]
  },
  {
   "cell_type": "markdown",
   "id": "db734a3d",
   "metadata": {},
   "source": [
    "### Panel Visualization Functions"
   ]
  },
  {
   "cell_type": "code",
   "execution_count": null,
   "id": "6e998543",
   "metadata": {},
   "outputs": [],
   "source": [
    "def create_plot_line_chart(data, title, xlabel, ylabel, stacked, figsize):\n",
    "    \"\"\"\n",
    "    Create a line chart based in the data argument.\n",
    "    \"\"\"\n",
    "    new_plot_line_chart = data.plot(\n",
    "    title=title, xlabel=xlabel, rot=45, ylabel=ylabel, stacked=stacked,figsize=figsize)\n",
    "    #plt.show() \n",
    "    return new_line_chart\n",
    "\n",
    "def create_hvplot_bar_chart(data, title, xlabel, ylabel, color, height):\n",
    "    \"\"\"\n",
    "    Create a barplot based in the data argument.\n",
    "    \"\"\"\n",
    "    \n",
    "    new_hvplot_bar_chart = data.hvplot.bar(\n",
    "   \n",
    "    title=title, xlabel=xlabel, rot=45, ylabel=ylabel, color=color, height=height)\n",
    "    #plt.show()  \n",
    "    \n",
    "    return new_bar_chart \n",
    "\n",
    "def create_hvplot_line_chart(data, title, xlabel, ylabel, color, height):\n",
    "    \"\"\"\n",
    "    Create a line chart based in the data argument.\n",
    "    \"\"\"\n",
    "    new_hvplot_line_chart = data.hvplot(\n",
    "    title=title, xlabel=xlabel, rot=45, ylabel=ylabel, color=color,height=height)\n",
    "    #plt.show() \n",
    "    return new_line_chart\n",
    "\n",
    "def create_scatter_chart(data, title, x, y, color, height):\n",
    "    \"\"\"\n",
    "    Create a line chart based in the data argument.\n",
    "    \"\"\"\n",
    "    new_scatter_chart = px.scatter(\n",
    "    data=data, title=title, x=x, y=y, color=color,height=height)\n",
    "    #plt.show() \n",
    "    return new_line_chart"
   ]
  },
  {
   "cell_type": "markdown",
   "id": "01e99acd",
   "metadata": {},
   "source": [
    "## Panel Dashboard\n",
    "\n",
    "In this section, you will combine all of the plots into a single dashboard view using Panel. Be creative with your dashboard design!"
   ]
  },
  {
   "cell_type": "code",
   "execution_count": null,
   "id": "56754213",
   "metadata": {},
   "outputs": [],
   "source": [
    "#dashboard code goes here "
   ]
  },
  {
   "cell_type": "markdown",
   "id": "8b5b82c1",
   "metadata": {},
   "source": [
    "## Serve the Panel Dashboard"
   ]
  },
  {
   "cell_type": "code",
   "execution_count": null,
   "id": "bf6baf26",
   "metadata": {},
   "outputs": [],
   "source": [
    "#please ignore error messages, the dashboard works on local machine. \n",
    "#please see gif recording as well, for data visualization / graphs / charts \n",
    "my_dashboard.servable(location=True, area='main')"
   ]
  },
  {
   "cell_type": "markdown",
   "id": "dcb0357d",
   "metadata": {},
   "source": [
    "# Debugging\n",
    "\n",
    "Note: Some of the Plotly express plots may not render in the notebook through the panel functions.\n",
    "\n",
    "However, you can test each plot by uncommenting the following code"
   ]
  },
  {
   "cell_type": "code",
   "execution_count": null,
   "id": "8c557cb7",
   "metadata": {},
   "outputs": [],
   "source": [
    "# create_plot_line_chart(data, title, xlabel, ylabel, stacked, figsize)"
   ]
  },
  {
   "cell_type": "code",
   "execution_count": null,
   "id": "def0f788",
   "metadata": {},
   "outputs": [],
   "source": [
    "# create_hvplot_bar_chart(data, title, xlabel, ylabel, color, height)"
   ]
  },
  {
   "cell_type": "code",
   "execution_count": null,
   "id": "d7b0c0b1",
   "metadata": {},
   "outputs": [],
   "source": [
    "# create_hvplot_line_chart(data, title, xlabel, ylabel, color, height)"
   ]
  },
  {
   "cell_type": "code",
   "execution_count": null,
   "id": "270f0784",
   "metadata": {},
   "outputs": [],
   "source": [
    "# create_scatter_chart(data, title, x, y, color, height)"
   ]
  }
 ],
 "metadata": {
  "kernelspec": {
   "display_name": "Python [conda env:pyvizenv] *",
   "language": "python",
   "name": "conda-env-pyvizenv-py"
  },
  "language_info": {
   "codemirror_mode": {
    "name": "ipython",
    "version": 3
   },
   "file_extension": ".py",
   "mimetype": "text/x-python",
   "name": "python",
   "nbconvert_exporter": "python",
   "pygments_lexer": "ipython3",
   "version": "3.7.10"
  }
 },
 "nbformat": 4,
 "nbformat_minor": 5
}
