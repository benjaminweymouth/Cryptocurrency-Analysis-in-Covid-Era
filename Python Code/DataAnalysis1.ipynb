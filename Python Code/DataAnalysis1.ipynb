{
 "cells": [
  {
   "cell_type": "markdown",
   "id": "9eb097a8",
   "metadata": {},
   "source": [
    "##Jupyter Notebook for Data Analysis, Data Cleaning, Data Presentation "
   ]
  },
  {
   "cell_type": "code",
   "execution_count": 1,
   "id": "91828980",
   "metadata": {},
   "outputs": [],
   "source": [
    "import os\n",
    "import requests\n",
    "import json\n",
    "import pandas as pd\n",
    "from dotenv import load_dotenv\n",
    "from requests import Request, Session\n",
    "from requests.exceptions import ConnectionError, Timeout, TooManyRedirects\n",
    "import json\n",
    "\n",
    "\n",
    "%matplotlib inline"
   ]
  },
  {
   "cell_type": "code",
   "execution_count": 4,
   "id": "062e37f9",
   "metadata": {},
   "outputs": [
    {
     "name": "stdout",
     "output_type": "stream",
     "text": [
      "{'status': {'timestamp': '2021-09-25T15:57:22.094Z', 'error_code': 0, 'error_message': None, 'elapsed': 15, 'credit_count': 1, 'notice': None, 'total_count': 6819}, 'data': [{'id': 1, 'name': 'Bitcoin', 'symbol': 'BTC', 'slug': 'bitcoin', 'num_market_pairs': 8681, 'date_added': '2013-04-28T00:00:00.000Z', 'tags': ['mineable', 'pow', 'sha-256', 'store-of-value', 'state-channels', 'coinbase-ventures-portfolio', 'three-arrows-capital-portfolio', 'polychain-capital-portfolio', 'binance-labs-portfolio', 'arrington-xrp-capital', 'blockchain-capital-portfolio', 'boostvc-portfolio', 'cms-holdings-portfolio', 'dcg-portfolio', 'dragonfly-capital-portfolio', 'electric-capital-portfolio', 'fabric-ventures-portfolio', 'framework-ventures', 'galaxy-digital-portfolio', 'huobi-capital', 'alameda-research-portfolio', 'a16z-portfolio', '1confirmation-portfolio', 'winklevoss-capital', 'usv-portfolio', 'placeholder-ventures-portfolio', 'pantera-capital-portfolio', 'multicoin-capital-portfolio', 'paradigm-xzy-screener'], 'max_supply': 21000000, 'circulating_supply': 18825950, 'total_supply': 18825950, 'platform': None, 'cmc_rank': 1, 'last_updated': '2021-09-25T15:56:02.000Z', 'quote': {'CAD': {'price': 54084.838964683324, 'volume_24h': 42449007661.012985, 'percent_change_1h': 0.66824154, 'percent_change_24h': 1.79564533, 'percent_change_7d': -12.94108633, 'percent_change_30d': -8.63574673, 'percent_change_60d': 11.80399803, 'percent_change_90d': 28.64005184, 'market_cap': 1018198474107.1799, 'market_cap_dominance': 42.1087, 'fully_diluted_market_cap': 1135781618258.3535, 'last_updated': '2021-09-25T15:56:31.000Z'}}}]}\n"
     ]
    }
   ],
   "source": [
    "#This example uses Python 2.7 and the python-request library.\n",
    "\n",
    "\n",
    "url = 'https://pro-api.coinmarketcap.com/v1/cryptocurrency/listings/latest'\n",
    "parameters = {\n",
    "  'start':'1',\n",
    "  'limit':'1',\n",
    "  'convert':'CAD'\n",
    "}\n",
    "headers = {\n",
    "  'Accepts': 'application/json',\n",
    "  'X-CMC_PRO_API_KEY': 'e74a862e-ae57-453e-92f0-c053f30261ca',\n",
    "}\n",
    "\n",
    "session = Session()\n",
    "session.headers.update(headers)\n",
    "\n",
    "try:\n",
    "  response = session.get(url, params=parameters)\n",
    "  response_data = json.loads(response.text)\n",
    "  print(response_data)\n",
    "except (ConnectionError, Timeout, TooManyRedirects) as e:\n",
    "  print(e)\n",
    " "
   ]
  },
  {
   "cell_type": "code",
   "execution_count": 5,
   "id": "3805e61d",
   "metadata": {},
   "outputs": [
    {
     "name": "stdout",
     "output_type": "stream",
     "text": [
      "[{'id': 1, 'name': 'Bitcoin', 'symbol': 'BTC', 'slug': 'bitcoin', 'num_market_pairs': 8681, 'date_added': '2013-04-28T00:00:00.000Z', 'tags': ['mineable', 'pow', 'sha-256', 'store-of-value', 'state-channels', 'coinbase-ventures-portfolio', 'three-arrows-capital-portfolio', 'polychain-capital-portfolio', 'binance-labs-portfolio', 'arrington-xrp-capital', 'blockchain-capital-portfolio', 'boostvc-portfolio', 'cms-holdings-portfolio', 'dcg-portfolio', 'dragonfly-capital-portfolio', 'electric-capital-portfolio', 'fabric-ventures-portfolio', 'framework-ventures', 'galaxy-digital-portfolio', 'huobi-capital', 'alameda-research-portfolio', 'a16z-portfolio', '1confirmation-portfolio', 'winklevoss-capital', 'usv-portfolio', 'placeholder-ventures-portfolio', 'pantera-capital-portfolio', 'multicoin-capital-portfolio', 'paradigm-xzy-screener'], 'max_supply': 21000000, 'circulating_supply': 18825950, 'total_supply': 18825950, 'platform': None, 'cmc_rank': 1, 'last_updated': '2021-09-25T15:56:02.000Z', 'quote': {'CAD': {'price': 54084.838964683324, 'volume_24h': 42449007661.012985, 'percent_change_1h': 0.66824154, 'percent_change_24h': 1.79564533, 'percent_change_7d': -12.94108633, 'percent_change_30d': -8.63574673, 'percent_change_60d': 11.80399803, 'percent_change_90d': 28.64005184, 'market_cap': 1018198474107.1799, 'market_cap_dominance': 42.1087, 'fully_diluted_market_cap': 1135781618258.3535, 'last_updated': '2021-09-25T15:56:31.000Z'}}}]\n"
     ]
    }
   ],
   "source": [
    "btc_current_value = response_data[\"data\"]\n",
    "print(btc_current_value)"
   ]
  },
  {
   "cell_type": "code",
   "execution_count": 6,
   "id": "05fcb2d2",
   "metadata": {},
   "outputs": [
    {
     "name": "stdout",
     "output_type": "stream",
     "text": [
      "{\n",
      "    \"status\": {\n",
      "        \"timestamp\": \"2021-09-25T15:57:22.094Z\",\n",
      "        \"error_code\": 0,\n",
      "        \"error_message\": null,\n",
      "        \"elapsed\": 15,\n",
      "        \"credit_count\": 1,\n",
      "        \"notice\": null,\n",
      "        \"total_count\": 6819\n",
      "    },\n",
      "    \"data\": [\n",
      "        {\n",
      "            \"id\": 1,\n",
      "            \"name\": \"Bitcoin\",\n",
      "            \"symbol\": \"BTC\",\n",
      "            \"slug\": \"bitcoin\",\n",
      "            \"num_market_pairs\": 8681,\n",
      "            \"date_added\": \"2013-04-28T00:00:00.000Z\",\n",
      "            \"tags\": [\n",
      "                \"mineable\",\n",
      "                \"pow\",\n",
      "                \"sha-256\",\n",
      "                \"store-of-value\",\n",
      "                \"state-channels\",\n",
      "                \"coinbase-ventures-portfolio\",\n",
      "                \"three-arrows-capital-portfolio\",\n",
      "                \"polychain-capital-portfolio\",\n",
      "                \"binance-labs-portfolio\",\n",
      "                \"arrington-xrp-capital\",\n",
      "                \"blockchain-capital-portfolio\",\n",
      "                \"boostvc-portfolio\",\n",
      "                \"cms-holdings-portfolio\",\n",
      "                \"dcg-portfolio\",\n",
      "                \"dragonfly-capital-portfolio\",\n",
      "                \"electric-capital-portfolio\",\n",
      "                \"fabric-ventures-portfolio\",\n",
      "                \"framework-ventures\",\n",
      "                \"galaxy-digital-portfolio\",\n",
      "                \"huobi-capital\",\n",
      "                \"alameda-research-portfolio\",\n",
      "                \"a16z-portfolio\",\n",
      "                \"1confirmation-portfolio\",\n",
      "                \"winklevoss-capital\",\n",
      "                \"usv-portfolio\",\n",
      "                \"placeholder-ventures-portfolio\",\n",
      "                \"pantera-capital-portfolio\",\n",
      "                \"multicoin-capital-portfolio\",\n",
      "                \"paradigm-xzy-screener\"\n",
      "            ],\n",
      "            \"max_supply\": 21000000,\n",
      "            \"circulating_supply\": 18825950,\n",
      "            \"total_supply\": 18825950,\n",
      "            \"platform\": null,\n",
      "            \"cmc_rank\": 1,\n",
      "            \"last_updated\": \"2021-09-25T15:56:02.000Z\",\n",
      "            \"quote\": {\n",
      "                \"CAD\": {\n",
      "                    \"price\": 54084.838964683324,\n",
      "                    \"volume_24h\": 42449007661.012985,\n",
      "                    \"percent_change_1h\": 0.66824154,\n",
      "                    \"percent_change_24h\": 1.79564533,\n",
      "                    \"percent_change_7d\": -12.94108633,\n",
      "                    \"percent_change_30d\": -8.63574673,\n",
      "                    \"percent_change_60d\": 11.80399803,\n",
      "                    \"percent_change_90d\": 28.64005184,\n",
      "                    \"market_cap\": 1018198474107.1799,\n",
      "                    \"market_cap_dominance\": 42.1087,\n",
      "                    \"fully_diluted_market_cap\": 1135781618258.3535,\n",
      "                    \"last_updated\": \"2021-09-25T15:56:31.000Z\"\n",
      "                }\n",
      "            }\n",
      "        }\n",
      "    ]\n",
      "}\n"
     ]
    }
   ],
   "source": [
    "print(json.dumps(response_data, indent=4))"
   ]
  },
  {
   "cell_type": "code",
   "execution_count": 7,
   "id": "e865894c",
   "metadata": {},
   "outputs": [],
   "source": [
    "# note, for the Library that has to be new we can use Statsmodels.tsa.seasonal import seasonal_decompose "
   ]
  }
 ],
 "metadata": {
  "interpreter": {
   "hash": "1a1c8e5b53816e48015fa76ea3d1ab04c09fe9ec79358180f2fd426c46aa1d3b"
  },
  "kernelspec": {
   "display_name": "Python 3 (ipykernel)",
   "language": "python",
   "name": "python3"
  },
  "language_info": {
   "codemirror_mode": {
    "name": "ipython",
    "version": 3
   },
   "file_extension": ".py",
   "mimetype": "text/x-python",
   "name": "python",
   "nbconvert_exporter": "python",
   "pygments_lexer": "ipython3",
   "version": "3.8.5"
  }
 },
 "nbformat": 4,
 "nbformat_minor": 5
}
