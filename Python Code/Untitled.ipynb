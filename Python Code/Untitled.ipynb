{
 "cells": [
  {
   "cell_type": "code",
   "execution_count": 12,
   "id": "7d2b2f6b",
   "metadata": {},
   "outputs": [
    {
     "name": "stdout",
     "output_type": "stream",
     "text": [
      "common letter {'m'} {'m'}\n",
      "common letter {'i'} {'i'}\n",
      "common letter {'t'} {'t'}\n",
      "common letter {' '} {' '}\n",
      "common letter {'u'} {'u'}\n",
      "common letter {' '} {' '}\n",
      "common letter {'r'} {'r'}\n"
     ]
    }
   ],
   "source": [
    "s1 = \"mit u rock\"\n",
    "s2 = \"i rule mit\"\n",
    "if len (s1) == len (s2):\n",
    "    for char1 in s1:\n",
    "        for char2 in s2:\n",
    "            if char1 == char2:\n",
    "                print (\"common letter\", {char1}, {char2})\n",
    "                break"
   ]
  },
  {
   "cell_type": "code",
   "execution_count": null,
   "id": "3d091ccf",
   "metadata": {},
   "outputs": [],
   "source": []
  }
 ],
 "metadata": {
  "kernelspec": {
   "display_name": "Python 3",
   "language": "python",
   "name": "python3"
  },
  "language_info": {
   "codemirror_mode": {
    "name": "ipython",
    "version": 3
   },
   "file_extension": ".py",
   "mimetype": "text/x-python",
   "name": "python",
   "nbconvert_exporter": "python",
   "pygments_lexer": "ipython3",
   "version": "3.7.10"
  }
 },
 "nbformat": 4,
 "nbformat_minor": 5
}
