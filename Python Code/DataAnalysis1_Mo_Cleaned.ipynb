{
 "cells": [
  {
   "cell_type": "markdown",
   "id": "2f856d6b",
   "metadata": {},
   "source": [
    "# Meme Stocks Vs Crypto\n",
    "\n",
    "## Showing the fluctuation that occured for the so called Meme stocks pre covid and during covid, the majority of the stock for these\n",
    "companies was stable then saw a sharp fluctuation once they got picked up by the larger internet social commnunities, mainly reddit.\n",
    "\n",
    "As the case study sample, we will be using reddit and particulary a subreddit (or a group) called Wallstreetbets. https://www.reddit.com/r/wallstreetbets/\n",
    "\n",
    "Using date results from https://swaggystocks.com/dashboard/stocks/terminal/TSLA which is a website that analysises sentiment and comment over reddit and wallstreetbets forums, the chosen stocks where the most spoken about.\n",
    "\n",
    "[TSLA] : Tesla was the first stock adopted by the larger community on social media for the correlation it had with the reddit community, although it does not qualify as a meme stock, it was one of the first stocks that got adopted into the mainstream by the larger community\n",
    "\n",
    "[GME] : Gamestop is the stock that started the  actual frenzy and during COVID 2 short squeezes happened that pushed the prices to unprecedented levels\n",
    "\n",
    "[AMC] : AMC Entertainment Holdings Inc. Smilar to Gamestop but it happened later and with a softer effect on the company and in theh long term, although as per some opinions, the speculation frenzy that caught AMC was one of the maor factors the company, a comany that offers live Cinema services mainly, a sector axed by covid, managed to survive while other companies did not\n",
    "\n",
    "[BB] : Blackberry, compared to the other companies that had added value on the market.\n"
   ]
  },
  {
   "cell_type": "markdown",
   "id": "a2cc680a",
   "metadata": {},
   "source": [
    "### Imports"
   ]
  },
  {
   "cell_type": "code",
   "execution_count": 4,
   "id": "81b6fc9f",
   "metadata": {},
   "outputs": [],
   "source": [
    "import os\n",
    "import requests\n",
    "import json\n",
    "import pandas as pd\n",
    "from dotenv import load_dotenv\n",
    "from requests import Request, Session\n",
    "from requests.exceptions import ConnectionError, Timeout, TooManyRedirects\n",
    "import json\n",
    "import hvplot.pandas\n",
    "import yfinance as yf\n",
    "load_dotenv()\n",
    "import panel as pn\n",
    "import hvplot.pandas\n",
    "%matplotlib inline"
   ]
  },
  {
   "cell_type": "code",
   "execution_count": 5,
   "id": "1d72438f",
   "metadata": {},
   "outputs": [],
   "source": [
    "#Use one new Python library that hasn't been covered in class. (Yfinance is yahoo finance)\n",
    "import yfinance as yf"
   ]
  },
  {
   "cell_type": "code",
   "execution_count": null,
   "id": "c151d8f4",
   "metadata": {},
   "outputs": [],
   "source": []
  }
 ],
 "metadata": {
  "kernelspec": {
   "display_name": "Python [conda env:pyvizenv] *",
   "language": "python",
   "name": "conda-env-pyvizenv-py"
  },
  "language_info": {
   "codemirror_mode": {
    "name": "ipython",
    "version": 3
   },
   "file_extension": ".py",
   "mimetype": "text/x-python",
   "name": "python",
   "nbconvert_exporter": "python",
   "pygments_lexer": "ipython3",
   "version": "3.7.10"
  }
 },
 "nbformat": 4,
 "nbformat_minor": 5
}
