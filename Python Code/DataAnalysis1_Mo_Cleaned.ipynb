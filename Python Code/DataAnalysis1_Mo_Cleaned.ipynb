{
 "cells": [
  {
   "cell_type": "markdown",
   "id": "88adcb53",
   "metadata": {},
   "source": [
    "# Meme Stocks Vs Crypto\n",
    "\n",
    "## Showing the fluctuation that occured for the so called Meme stocks pre covid and during covid, the majority of the stock for these\n",
    "companies was stable then saw a sharp fluctuation once they got picked up by the larger internet social commnunities, mainly reddit.\n",
    "\n",
    "As the case study sample, we will be using reddit and particulary a subreddit (or a group) called Wallstreetbets. https://www.reddit.com/r/wallstreetbets/\n",
    "\n",
    "Using date results from https://swaggystocks.com/dashboard/stocks/terminal/TSLA which is a website that analysises sentiment and comment over reddit and wallstreetbets forums, the chosen stocks where the most spoken about.\n",
    "\n",
    "[TSLA] : Tesla was the first stock adopted by the larger community on social media for the correlation it had with the reddit community, although it does not qualify as a meme stock, it was one of the first stocks that got adopted into the mainstream by the larger community\n",
    "\n",
    "[GME] : Gamestop is the stock that started the  actual frenzy and during COVID 2 short squeezes happened that pushed the prices to unprecedented levels\n",
    "\n",
    "[AMC] : AMC Entertainment Holdings Inc. Smilar to Gamestop but it happened later and with a softer effect on the company and in theh long term, although as per some opinions, the speculation frenzy that caught AMC was one of the maor factors the company, a comany that offers live Cinema services mainly, a sector axed by covid, managed to survive while other companies did not\n",
    "\n",
    "[BB] : Blackberry, compared to the other companies that had added value on the market.\n",
    "\n",
    "############# Add articles to back up the research\n"
   ]
  },
  {
   "cell_type": "markdown",
   "id": "00eb6c57",
   "metadata": {},
   "source": [
    "### Imports"
   ]
  },
  {
   "cell_type": "code",
   "execution_count": null,
   "id": "8c0f0304",
   "metadata": {},
   "outputs": [],
   "source": [
    "import os\n",
    "import requests\n",
    "import json\n",
    "import pandas as pd\n",
    "from dotenv import load_dotenv\n",
    "from requests import Request, Session\n",
    "from requests.exceptions import ConnectionError, Timeout, TooManyRedirects\n",
    "import json\n",
    "import hvplot.pandas\n",
    "import yfinance as yf\n",
    "load_dotenv()\n",
    "import panel as pn\n",
    "import hvplot.pandas\n",
    "%matplotlib inline"
   ]
  },
  {
   "cell_type": "code",
   "execution_count": null,
   "id": "8e464ba4",
   "metadata": {},
   "outputs": [],
   "source": [
    "#Use one new Python library that hasn't been covered in class. (Yfinance is yahoo finance)\n",
    "import yfinance as yf"
   ]
  },
  {
   "cell_type": "markdown",
   "id": "85ba5cde",
   "metadata": {},
   "source": [
    "# Analysis Questions: \n",
    "\n",
    "#QUESTION: is there a correlation between crypto value and our X factor (meme stocks, gold, semiconductors)\n",
    "#HYPOTHESIS: Yes, there will a linkage between cryptocurrencies and meme stocks, gold, semiconductors\n",
    "#SOURCES: research vs culled research: yahoo finance, WHO data. \n",
    "#PROBLEMS: how did you clean data? WHO data had different challenges \n",
    "#ANALYSIS: charts, graphs. MISSING:::: Salman: adding some values, charting over time.  \n",
    "#Take crypto VS. x factor over time. \n",
    "#Do a profit calculation for crypto VS x factor. \n",
    "#CONLUSIONS AND INSIGHTS\n",
    "#CHALLENGES, DIFFICULTIES, SUCCESSES \n",
    "#PUT EVERYTHING IN THE POWERPOINT. "
   ]
  },
  {
   "cell_type": "code",
   "execution_count": null,
   "id": "2c19b52f",
   "metadata": {},
   "outputs": [],
   "source": [
    "#Setting the tickers for the stocks picked\n",
    "\n",
    "tesla = yf.Ticker(\"TSLA\")\n",
    "gamestop = yf.Ticker(\"GME\")\n",
    "amc = yf.Ticker(\"AMC\")\n",
    "blackberry = yf.Ticker(\"BB\")\n",
    "btc= yf.Ticker(\"BTC-USD\")"
   ]
  },
  {
   "cell_type": "markdown",
   "id": "c2475702",
   "metadata": {},
   "source": [
    "## Pulling and plotting Pre covid data"
   ]
  },
  {
   "cell_type": "markdown",
   "id": "3079c2b8",
   "metadata": {},
   "source": [
    "### Pulling the data from yahoo finance API"
   ]
  },
  {
   "cell_type": "code",
   "execution_count": null,
   "id": "adb8898c",
   "metadata": {},
   "outputs": [],
   "source": [
    "tesla_historical_precovid = tesla.history(start=\"2018-03-01\", end=\"2020-03-01\")\n",
    "tesla_historical_precovid.head()"
   ]
  },
  {
   "cell_type": "code",
   "execution_count": null,
   "id": "3bb596a7",
   "metadata": {},
   "outputs": [],
   "source": [
    "gamestop_historical_precovid = gamestop.history(start=\"2018-03-01\", end=\"2020-03-01\")\n",
    "gamestop_historical_precovid.head()"
   ]
  },
  {
   "cell_type": "code",
   "execution_count": null,
   "id": "f8a2565f",
   "metadata": {},
   "outputs": [],
   "source": [
    "amc_historical_precovid = amc.history(start=\"2018-03-01\", end=\"2020-03-01\")\n",
    "amc_historical_precovid.head()"
   ]
  },
  {
   "cell_type": "code",
   "execution_count": null,
   "id": "6a281900",
   "metadata": {},
   "outputs": [],
   "source": [
    "blackberry_historical_precovid = blackberry.history(start=\"2018-03-01\", end=\"2020-03-01\")\n",
    "blackberry_historical_precovid.head()"
   ]
  },
  {
   "cell_type": "markdown",
   "id": "b1b36c7b",
   "metadata": {},
   "source": [
    "### Cleaning the pulled Data"
   ]
  },
  {
   "cell_type": "code",
   "execution_count": null,
   "id": "7a821ee8",
   "metadata": {},
   "outputs": [],
   "source": [
    "tesla_historical_precovid.drop(tesla_historical_precovid.columns.difference(['Close']), 1, inplace=True)\n",
    "tesla_historical_precovid.head()"
   ]
  },
  {
   "cell_type": "code",
   "execution_count": null,
   "id": "f377b708",
   "metadata": {},
   "outputs": [],
   "source": [
    "gamestop_historical_precovid.drop(gamestop_historical_precovid.columns.difference(['Close']), 1, inplace=True) \n",
    "gamestop_historical_precovid.head()"
   ]
  },
  {
   "cell_type": "code",
   "execution_count": null,
   "id": "3b1cbaff",
   "metadata": {},
   "outputs": [],
   "source": [
    "amc_historical_precovid.drop(amc_historical_precovid.columns.difference(['Close']), 1, inplace=True) \n",
    "amc_historical_precovid.head()"
   ]
  },
  {
   "cell_type": "code",
   "execution_count": null,
   "id": "028374a7",
   "metadata": {},
   "outputs": [],
   "source": [
    "blackberry_historical_precovid.drop(blackberry_historical_precovid.columns.difference(['Close']), 1, inplace=True) \n",
    "blackberry_historical_precovid.head()"
   ]
  },
  {
   "cell_type": "code",
   "execution_count": null,
   "id": "39b9f5ae",
   "metadata": {},
   "outputs": [],
   "source": [
    "tesla_historical_precovid = tesla_historical_precovid.rename(columns={'Close': 'Tesla'})\n",
    "gamestop_historical_precovid = gamestop_historical_precovid.rename(columns={'Close': 'Gamestop'})\n",
    "amc_historical_precovid = amc_historical_precovid.rename(columns={'Close': 'AMC'})\n",
    "blackberry_historical_precovid = blackberry_historical_precovid.rename(columns={'Close': 'Blackberry'})\n",
    "\n",
    "\n",
    "# Use the concat function to combine the DataFrames by column and perform an inner join. \n",
    "combined_stocks_precovid_df = pd.concat([tesla_historical_precovid, gamestop_historical_precovid, amc_historical_precovid,blackberry_historical_precovid], axis=\"columns\", join=\"inner\")\n",
    "\n",
    "# Sort datetime index in ascending order (past to present)\n",
    "combined_stocks_precovid_df.sort_index(inplace=True)\n",
    "\n",
    "# Display a few rows\n",
    "combined_stocks_precovid_df.head()"
   ]
  },
  {
   "cell_type": "markdown",
   "id": "6288abcf",
   "metadata": {},
   "source": [
    "### Calculating the daily returns"
   ]
  },
  {
   "cell_type": "code",
   "execution_count": null,
   "id": "fc617ee2",
   "metadata": {},
   "outputs": [],
   "source": [
    "daily_returns_precovid = combined_stocks_precovid_df.pct_change()\n",
    "daily_returns_precovid"
   ]
  },
  {
   "cell_type": "code",
   "execution_count": null,
   "id": "a16005f6",
   "metadata": {},
   "outputs": [],
   "source": [
    "daily_returns_precovid.hvplot.line(width = 1500,height=600, stacked= False)"
   ]
  },
  {
   "cell_type": "code",
   "execution_count": null,
   "id": "7078be29",
   "metadata": {},
   "outputs": [],
   "source": [
    "cumulative_returns_precovid = (1 + daily_returns_precovid).cumprod()\n",
    "cumulative_returns_precovid.head()"
   ]
  },
  {
   "cell_type": "code",
   "execution_count": null,
   "id": "432db2e3",
   "metadata": {},
   "outputs": [],
   "source": [
    "cumulative_returns_precovid.hvplot.line(width = 900,height=600, stacked= False)"
   ]
  },
  {
   "cell_type": "markdown",
   "id": "05797db1",
   "metadata": {},
   "source": [
    "## Pulling and plotting Post-Covid data\n",
    "\n",
    "### Pulling the data from yahoo finance API"
   ]
  }
 ],
 "metadata": {
  "kernelspec": {
   "display_name": "Python [conda env:pyvizenv] *",
   "language": "python",
   "name": "conda-env-pyvizenv-py"
  },
  "language_info": {
   "codemirror_mode": {
    "name": "ipython",
    "version": 3
   },
   "file_extension": ".py",
   "mimetype": "text/x-python",
   "name": "python",
   "nbconvert_exporter": "python",
   "pygments_lexer": "ipython3",
   "version": "3.7.10"
  }
 },
 "nbformat": 4,
 "nbformat_minor": 5
}
