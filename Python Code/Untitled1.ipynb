{
 "cells": [
  {
   "cell_type": "code",
   "execution_count": 1,
   "id": "6faeaba3",
   "metadata": {},
   "outputs": [],
   "source": [
    "import panel as pn\n",
    "import pandas as pd\n",
    "from matplotlib.figure import Figure\n",
    "# not needed for mpl >= 3.1\n",
    "from matplotlib.backends.backend_agg import FigureCanvas\n",
    "\n",
    "from bokeh.sampledata import stocks\n",
    "\n",
    "pn.extension(sizing_mode=\"stretch_width\")"
   ]
  },
  {
   "cell_type": "code",
   "execution_count": 1,
   "id": "a832b3fd",
   "metadata": {},
   "outputs": [
    {
     "ename": "SyntaxError",
     "evalue": "invalid syntax (Temp/ipykernel_8028/396169552.py, line 10)",
     "output_type": "error",
     "traceback": [
      "\u001b[1;36m  File \u001b[1;32m\"C:\\Users\\Is\\AppData\\Local\\Temp/ipykernel_8028/396169552.py\"\u001b[1;36m, line \u001b[1;32m10\u001b[0m\n\u001b[1;33m    This example is meant to make it easy to compare and contrast the different APIs Panel provides to declare apps and dashboards. Specifically, it compares four different implementations of the same app using 1) the quick and easy interact function, 2) more flexible reactive functions, 3) declarative Param-based code, and 4) explicit callbacks.\u001b[0m\n\u001b[1;37m               ^\u001b[0m\n\u001b[1;31mSyntaxError\u001b[0m\u001b[1;31m:\u001b[0m invalid syntax\n"
     ]
    }
   ],
   "source": [
    "This example is meant to make it easy to compare and contrast the different APIs Panel provides to declare apps and dashboards. Specifically, it compares four different implementations of the same app using 1) the quick and easy interact function, 2) more flexible reactive functions, 3) declarative Param-based code, and 4) explicit callbacks.\n",
    "\n",
    "Before comparing the different approaches, we will first declare some components of the app that will be shared, including the title of the app, a set of stock tickers, a function to return a dataframe given the stock ticker and the rolling mean window_size, and another function to return a plot given those same inputs:\n",
    "\n",
    "title = '## Stock Explorer Matplotlib'\n",
    "\n",
    "tickers = ['AAPL', 'FB', 'GOOG', 'IBM', 'MSFT']\n",
    "\n",
    "def get_df(ticker, window_size):\n",
    "    df = pd.DataFrame(getattr(stocks, ticker))\n",
    "    df['date'] = pd.to_datetime(df.date)\n",
    "    return df.set_index('date').rolling(window=window_size).mean().reset_index()\n",
    "\n",
    "def get_plot(ticker, window_size):\n",
    "    fig = Figure(figsize=(10, 6))\n",
    "    ax = fig.subplots()\n",
    "    FigureCanvas(fig)  # not needed for mpl >= 3.1\n",
    "    df = get_df(ticker, window_size)\n",
    "    df.plot.line('date', 'close', ax=ax)\n",
    "    return fig\n",
    "Interact\n",
    "In the interact model the widgets are automatically generated from the arguments to the function or by providing additional hints to the interact call. This is a very convenient way to generate a simple app, particularly when first exploring some data. However, because widgets are created implicitly based on introspecting the code, it is difficult to see how to modify the behavior. Also, to compose the different components in a custom way it is necessary to unpack the layout returned by the interact call, as we do here:\n",
    "\n",
    "interact = pn.interact(get_plot, ticker=tickers, window_size=(1, 21, 5))\n",
    "\n",
    "pn.Row(\n",
    "    pn.Column(title, interact[0], sizing_mode=\"fixed\", width=300),\n",
    "    interact[1]\n",
    ")"
   ]
  },
  {
   "cell_type": "code",
   "execution_count": null,
   "id": "1731519d",
   "metadata": {},
   "outputs": [],
   "source": []
  }
 ],
 "metadata": {
  "kernelspec": {
   "display_name": "Python [conda env:pyvizenv] *",
   "language": "python",
   "name": "conda-env-pyvizenv-py"
  },
  "language_info": {
   "codemirror_mode": {
    "name": "ipython",
    "version": 3
   },
   "file_extension": ".py",
   "mimetype": "text/x-python",
   "name": "python",
   "nbconvert_exporter": "python",
   "pygments_lexer": "ipython3",
   "version": "3.7.10"
  }
 },
 "nbformat": 4,
 "nbformat_minor": 5
}
