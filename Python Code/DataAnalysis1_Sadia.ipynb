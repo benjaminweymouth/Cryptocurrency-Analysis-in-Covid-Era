{
 "cells": [
  {
   "cell_type": "markdown",
   "id": "dd42f886",
   "metadata": {},
   "source": [
    "##Jupyter Notebook for Data Analysis, Data Cleaning, Data Presentation "
   ]
  },
  {
   "cell_type": "code",
   "execution_count": 1,
   "id": "91828980",
   "metadata": {},
   "outputs": [],
   "source": [
    "import os\n",
    "import requests\n",
    "import json\n",
    "import pandas as pd\n",
    "from dotenv import load_dotenv\n",
    "from requests import Request, Session\n",
    "from requests.exceptions import ConnectionError, Timeout, TooManyRedirects\n",
    "import json\n",
    "\n",
    "\n",
    "%matplotlib inline"
   ]
  },
  {
   "cell_type": "code",
   "execution_count": 2,
   "id": "062e37f9",
   "metadata": {},
   "outputs": [
    {
     "name": "stdout",
     "output_type": "stream",
     "text": [
      "{'status': {'timestamp': '2021-09-30T00:07:21.579Z', 'error_code': 0, 'error_message': None, 'elapsed': 18, 'credit_count': 1, 'notice': None, 'total_count': 6881}, 'data': [{'id': 1, 'name': 'Bitcoin', 'symbol': 'BTC', 'slug': 'bitcoin', 'num_market_pairs': 8593, 'date_added': '2013-04-28T00:00:00.000Z', 'tags': ['mineable', 'pow', 'sha-256', 'store-of-value', 'state-channels', 'coinbase-ventures-portfolio', 'three-arrows-capital-portfolio', 'polychain-capital-portfolio', 'binance-labs-portfolio', 'arrington-xrp-capital', 'blockchain-capital-portfolio', 'boostvc-portfolio', 'cms-holdings-portfolio', 'dcg-portfolio', 'dragonfly-capital-portfolio', 'electric-capital-portfolio', 'fabric-ventures-portfolio', 'framework-ventures', 'galaxy-digital-portfolio', 'huobi-capital', 'alameda-research-portfolio', 'a16z-portfolio', '1confirmation-portfolio', 'winklevoss-capital', 'usv-portfolio', 'placeholder-ventures-portfolio', 'pantera-capital-portfolio', 'multicoin-capital-portfolio', 'paradigm-xzy-screener'], 'max_supply': 21000000, 'circulating_supply': 18829862, 'total_supply': 18829862, 'platform': None, 'cmc_rank': 1, 'last_updated': '2021-09-30T00:06:02.000Z', 'quote': {'CAD': {'price': 52917.15041720566, 'volume_24h': 38840040303.80534, 'percent_change_1h': 0.26718769, 'percent_change_24h': 0.23264614, 'percent_change_7d': -6.05536957, 'percent_change_30d': -11.82172917, 'percent_change_60d': 0.04948809, 'percent_change_90d': 23.42540161, 'market_cap': 996422639789.225, 'market_cap_dominance': 42.3684, 'fully_diluted_market_cap': 1111260158761.3152, 'last_updated': '2021-09-30T00:06:35.000Z'}}}]}\n"
     ]
    }
   ],
   "source": [
    "#This example uses Python 2.7 and the python-request library.\n",
    "\n",
    "url = 'https://pro-api.coinmarketcap.com/v1/cryptocurrency/listings/latest'\n",
    "parameters = {\n",
    "  'start':'1',\n",
    "  'limit':'1',\n",
    "  'convert':'CAD'\n",
    "}\n",
    "headers = {\n",
    "  'Accepts': 'application/json',\n",
    "  'X-CMC_PRO_API_KEY': '',\n",
    "}\n",
    "\n",
    "session = Session()\n",
    "session.headers.update(headers)\n",
    "\n",
    "try:\n",
    "  response = session.get(url, params=parameters)\n",
    "  response_data = json.loads(response.text)\n",
    "  print(response_data)\n",
    "except (ConnectionError, Timeout, TooManyRedirects) as e:\n",
    "  print(e)\n",
    " "
   ]
  },
  {
   "cell_type": "code",
   "execution_count": 3,
   "id": "3805e61d",
   "metadata": {},
   "outputs": [
    {
     "name": "stdout",
     "output_type": "stream",
     "text": [
      "[{'id': 1, 'name': 'Bitcoin', 'symbol': 'BTC', 'slug': 'bitcoin', 'num_market_pairs': 8593, 'date_added': '2013-04-28T00:00:00.000Z', 'tags': ['mineable', 'pow', 'sha-256', 'store-of-value', 'state-channels', 'coinbase-ventures-portfolio', 'three-arrows-capital-portfolio', 'polychain-capital-portfolio', 'binance-labs-portfolio', 'arrington-xrp-capital', 'blockchain-capital-portfolio', 'boostvc-portfolio', 'cms-holdings-portfolio', 'dcg-portfolio', 'dragonfly-capital-portfolio', 'electric-capital-portfolio', 'fabric-ventures-portfolio', 'framework-ventures', 'galaxy-digital-portfolio', 'huobi-capital', 'alameda-research-portfolio', 'a16z-portfolio', '1confirmation-portfolio', 'winklevoss-capital', 'usv-portfolio', 'placeholder-ventures-portfolio', 'pantera-capital-portfolio', 'multicoin-capital-portfolio', 'paradigm-xzy-screener'], 'max_supply': 21000000, 'circulating_supply': 18829862, 'total_supply': 18829862, 'platform': None, 'cmc_rank': 1, 'last_updated': '2021-09-29T23:39:02.000Z', 'quote': {'CAD': {'price': 52872.70524262721, 'volume_24h': 39278487335.66607, 'percent_change_1h': 0.32097505, 'percent_change_24h': -0.3495014, 'percent_change_7d': -6.3606032, 'percent_change_30d': -12.30776521, 'percent_change_60d': -0.87691144, 'percent_change_90d': 23.70124546, 'market_cap': 995585743285.3469, 'market_cap_dominance': 42.4998, 'fully_diluted_market_cap': 1110326810095.1763, 'last_updated': '2021-09-29T23:39:35.000Z'}}}]\n"
     ]
    }
   ],
   "source": [
    "btc_current_value = response_data[\"data\"]\n",
    "print(btc_current_value)"
   ]
  },
  {
   "cell_type": "code",
   "execution_count": 4,
   "id": "05fcb2d2",
   "metadata": {},
   "outputs": [
    {
     "name": "stdout",
     "output_type": "stream",
     "text": [
      "{\n",
      "    \"status\": {\n",
      "        \"timestamp\": \"2021-09-29T23:40:05.141Z\",\n",
      "        \"error_code\": 0,\n",
      "        \"error_message\": null,\n",
      "        \"elapsed\": 96,\n",
      "        \"credit_count\": 1,\n",
      "        \"notice\": null,\n",
      "        \"total_count\": 6881\n",
      "    },\n",
      "    \"data\": [\n",
      "        {\n",
      "            \"id\": 1,\n",
      "            \"name\": \"Bitcoin\",\n",
      "            \"symbol\": \"BTC\",\n",
      "            \"slug\": \"bitcoin\",\n",
      "            \"num_market_pairs\": 8593,\n",
      "            \"date_added\": \"2013-04-28T00:00:00.000Z\",\n",
      "            \"tags\": [\n",
      "                \"mineable\",\n",
      "                \"pow\",\n",
      "                \"sha-256\",\n",
      "                \"store-of-value\",\n",
      "                \"state-channels\",\n",
      "                \"coinbase-ventures-portfolio\",\n",
      "                \"three-arrows-capital-portfolio\",\n",
      "                \"polychain-capital-portfolio\",\n",
      "                \"binance-labs-portfolio\",\n",
      "                \"arrington-xrp-capital\",\n",
      "                \"blockchain-capital-portfolio\",\n",
      "                \"boostvc-portfolio\",\n",
      "                \"cms-holdings-portfolio\",\n",
      "                \"dcg-portfolio\",\n",
      "                \"dragonfly-capital-portfolio\",\n",
      "                \"electric-capital-portfolio\",\n",
      "                \"fabric-ventures-portfolio\",\n",
      "                \"framework-ventures\",\n",
      "                \"galaxy-digital-portfolio\",\n",
      "                \"huobi-capital\",\n",
      "                \"alameda-research-portfolio\",\n",
      "                \"a16z-portfolio\",\n",
      "                \"1confirmation-portfolio\",\n",
      "                \"winklevoss-capital\",\n",
      "                \"usv-portfolio\",\n",
      "                \"placeholder-ventures-portfolio\",\n",
      "                \"pantera-capital-portfolio\",\n",
      "                \"multicoin-capital-portfolio\",\n",
      "                \"paradigm-xzy-screener\"\n",
      "            ],\n",
      "            \"max_supply\": 21000000,\n",
      "            \"circulating_supply\": 18829862,\n",
      "            \"total_supply\": 18829862,\n",
      "            \"platform\": null,\n",
      "            \"cmc_rank\": 1,\n",
      "            \"last_updated\": \"2021-09-29T23:39:02.000Z\",\n",
      "            \"quote\": {\n",
      "                \"CAD\": {\n",
      "                    \"price\": 52872.70524262721,\n",
      "                    \"volume_24h\": 39278487335.66607,\n",
      "                    \"percent_change_1h\": 0.32097505,\n",
      "                    \"percent_change_24h\": -0.3495014,\n",
      "                    \"percent_change_7d\": -6.3606032,\n",
      "                    \"percent_change_30d\": -12.30776521,\n",
      "                    \"percent_change_60d\": -0.87691144,\n",
      "                    \"percent_change_90d\": 23.70124546,\n",
      "                    \"market_cap\": 995585743285.3469,\n",
      "                    \"market_cap_dominance\": 42.4998,\n",
      "                    \"fully_diluted_market_cap\": 1110326810095.1763,\n",
      "                    \"last_updated\": \"2021-09-29T23:39:35.000Z\"\n",
      "                }\n",
      "            }\n",
      "        }\n",
      "    ]\n",
      "}\n"
     ]
    }
   ],
   "source": [
    "print(json.dumps(response_data, indent=4))"
   ]
  },
  {
   "cell_type": "code",
   "execution_count": 5,
   "id": "e865894c",
   "metadata": {},
   "outputs": [],
   "source": [
    "# note, for the Library that has to be new we can use Statsmodels.tsa.seasonal import seasonal_decompose "
   ]
  },
  {
   "cell_type": "code",
   "execution_count": 11,
   "id": "b64a9d36-9b2b-4fe3-9f08-e4103ce1e131",
   "metadata": {},
   "outputs": [
    {
     "name": "stdout",
     "output_type": "stream",
     "text": [
      "{\"quoteResponse\":{\"result\":[{\"language\":\"en-US\",\"region\":\"US\",\"quoteType\":\"CRYPTOCURRENCY\",\"quoteSourceName\":\"CoinMarketCap\",\"triggerable\":true,\"marketState\":\"REGULAR\",\"currency\":\"CAD\",\"firstTradeDateMilliseconds\":1568761200000,\"priceHint\":2,\"circulatingSupply\":18829862,\"lastMarket\":\"CoinMarketCap\",\"volume24Hr\":38840041472,\"volumeAllCurrencies\":38840041472,\"fromCurrency\":\"BTC\",\"toCurrency\":\"CAD=X\",\"regularMarketChange\":122.82422,\"regularMarketChangePercent\":0.23264614,\"regularMarketTime\":1632960395,\"regularMarketPrice\":52917.152,\"regularMarketDayHigh\":53019.01,\"regularMarketDayRange\":\"52917.152 - 53019.01\",\"regularMarketDayLow\":52917.152,\"regularMarketVolume\":38840041472,\"regularMarketPreviousClose\":53024.293,\"fullExchangeName\":\"CCC\",\"regularMarketOpen\":53024.293,\"averageDailyVolume3Month\":40325422716,\"averageDailyVolume10Day\":45559473261,\"startDate\":1367103600,\"coinImageUrl\":\"https://s.yimg.com/uc/fin/img/reports-thumbnails/1.png\",\"fiftyTwoWeekLowChange\":39011.547,\"fiftyTwoWeekLowChangePercent\":2.8054543,\"fiftyTwoWeekRange\":\"13905.607 - 81445.67\",\"fiftyTwoWeekHighChange\":-28528.52,\"fiftyTwoWeekHighChangePercent\":-0.35027668,\"fiftyTwoWeekLow\":13905.607,\"fiftyTwoWeekHigh\":81445.67,\"fiftyDayAverage\":59051.844,\"fiftyDayAverageChange\":-6134.6914,\"fiftyDayAverageChangePercent\":-0.10388654,\"twoHundredDayAverage\":56609.414,\"twoHundredDayAverageChange\":-3692.2617,\"twoHundredDayAverageChangePercent\":-0.065223455,\"marketCap\":996422647808,\"sourceInterval\":15,\"exchangeDataDelayedBy\":0,\"exchange\":\"CCC\",\"messageBoardId\":\"finmb_BTC_CCC\",\"exchangeTimezoneName\":\"Europe/London\",\"exchangeTimezoneShortName\":\"BST\",\"gmtOffSetMilliseconds\":3600000,\"market\":\"ccc_market\",\"esgPopulated\":false,\"shortName\":\"Bitcoin CAD\",\"tradeable\":false,\"symbol\":\"BTC-CAD\"}],\"error\":null}}\n"
     ]
    }
   ],
   "source": [
    "import requests\n",
    "url = \"https://rest.yahoofinanceapi.com/v6/finance/quote\"\n",
    "querystring = {\"symbols\":\"BTC-CAD\"}\n",
    "response = requests.request(\"GET\", url, headers=headers, params=querystring)\n",
    "print(response.text)"
   ]
  },
  {
   "cell_type": "code",
   "execution_count": 9,
   "id": "2453d964-73e0-4f11-b120-7a3341329aaf",
   "metadata": {
    "tags": []
   },
   "outputs": [
    {
     "name": "stdout",
     "output_type": "stream",
     "text": [
      "\"{\\\"quoteResponse\\\":{\\\"result\\\":[{\\\"language\\\":\\\"en-US\\\",\\\"region\\\":\\\"US\\\",\\\"quoteType\\\":\\\"CRYPTOCURRENCY\\\",\\\"quoteSourceName\\\":\\\"CoinMarketCap\\\",\\\"triggerable\\\":true,\\\"firstTradeDateMilliseconds\\\":1568761200000,\\\"regularMarketChange\\\":-170.45703,\\\"regularMarketChangePercent\\\":-0.3215463,\\\"regularMarketTime\\\":1632958899,\\\"regularMarketPrice\\\":52841.246,\\\"regularMarketDayHigh\\\":53937.277,\\\"regularMarketDayRange\\\":\\\"51825.45 - 53937.277\\\",\\\"regularMarketDayLow\\\":51825.45,\\\"regularMarketVolume\\\":39349723136,\\\"regularMarketPreviousClose\\\":52084.457,\\\"fullExchangeName\\\":\\\"CCC\\\",\\\"regularMarketOpen\\\":52084.457,\\\"averageDailyVolume3Month\\\":40325422716,\\\"averageDailyVolume10Day\\\":45559473261,\\\"startDate\\\":1367103600,\\\"coinImageUrl\\\":\\\"https://s.yimg.com/uc/fin/img/reports-thumbnails/1.png\\\",\\\"fiftyTwoWeekLowChange\\\":38935.64,\\\"fiftyTwoWeekLowChangePercent\\\":2.7999957,\\\"fiftyTwoWeekRange\\\":\\\"13905.607 - 81445.67\\\",\\\"fiftyTwoWeekHighChange\\\":-28604.426,\\\"fiftyTwoWeekHighChangePercent\\\":-0.35120866,\\\"fiftyTwoWeekLow\\\":13905.607,\\\"fiftyTwoWeekHigh\\\":81445.67,\\\"fiftyDayAverage\\\":59051.844,\\\"fiftyDayAverageChange\\\":-6210.5977,\\\"fiftyDayAverageChangePercent\\\":-0.10517195,\\\"twoHundredDayAverage\\\":56609.414,\\\"twoHundredDayAverageChange\\\":-3768.168,\\\"twoHundredDayAverageChangePercent\\\":-0.06656434,\\\"marketCap\\\":994993373184,\\\"sourceInterval\\\":15,\\\"exchangeDataDelayedBy\\\":0,\\\"priceHint\\\":2,\\\"circulatingSupply\\\":18829862,\\\"lastMarket\\\":\\\"CoinMarketCap\\\",\\\"volume24Hr\\\":39349723136,\\\"volumeAllCurrencies\\\":39349723136,\\\"fromCurrency\\\":\\\"BTC\\\",\\\"toCurrency\\\":\\\"CAD=X\\\",\\\"currency\\\":\\\"CAD\\\",\\\"exchange\\\":\\\"CCC\\\",\\\"messageBoardId\\\":\\\"finmb_BTC_CCC\\\",\\\"exchangeTimezoneName\\\":\\\"Europe/London\\\",\\\"exchangeTimezoneShortName\\\":\\\"BST\\\",\\\"gmtOffSetMilliseconds\\\":3600000,\\\"market\\\":\\\"ccc_market\\\",\\\"esgPopulated\\\":false,\\\"shortName\\\":\\\"Bitcoin CAD\\\",\\\"tradeable\\\":false,\\\"marketState\\\":\\\"REGULAR\\\",\\\"symbol\\\":\\\"BTC-CAD\\\"}],\\\"error\\\":null}}\"\n"
     ]
    }
   ],
   "source": [
    "print(json.dumps(response.text, indent=4))"
   ]
  },
  {
   "cell_type": "code",
   "execution_count": null,
   "id": "8ec30d65-d9f0-4fef-b789-9a1e88bd79f9",
   "metadata": {},
   "outputs": [],
   "source": []
  }
 ],
 "metadata": {
  "interpreter": {
   "hash": "1a1c8e5b53816e48015fa76ea3d1ab04c09fe9ec79358180f2fd426c46aa1d3b"
  },
  "kernelspec": {
   "display_name": "Python 3 (ipykernel)",
   "language": "python",
   "name": "python3"
  },
  "language_info": {
   "codemirror_mode": {
    "name": "ipython",
    "version": 3
   },
   "file_extension": ".py",
   "mimetype": "text/x-python",
   "name": "python",
   "nbconvert_exporter": "python",
   "pygments_lexer": "ipython3",
   "version": "3.8.8"
  }
 },
 "nbformat": 4,
 "nbformat_minor": 5
}
